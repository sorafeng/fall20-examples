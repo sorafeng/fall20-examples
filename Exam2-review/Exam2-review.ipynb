{
 "cells": [
  {
   "cell_type": "markdown",
   "metadata": {},
   "source": [
    "# ECE 325 - Exam 2 Review  (Fall20)"
   ]
  },
  {
   "cell_type": "markdown",
   "metadata": {},
   "source": [
    "## Generics"
   ]
  },
  {
   "cell_type": "markdown",
   "metadata": {},
   "source": [
    "*Generics* enable types (classes and interfaces) to be parameters when defining classes, interfaces and methods."
   ]
  },
  {
   "cell_type": "code",
   "execution_count": 1,
   "metadata": {
    "code_folding": []
   },
   "outputs": [
    {
     "data": {
      "text/plain": [
       "null"
      ]
     },
     "execution_count": 1,
     "metadata": {},
     "output_type": "execute_result"
    }
   ],
   "source": [
    "class Box<T>\n",
    "{\n",
    "    private T value;\n",
    "    \n",
    "    public Box(T value) { this.value = value; }\n",
    "    \n",
    "    public T getValue() { return value; }\n",
    "    \n",
    "    public void setValue(T value) { this.value = value; }\n",
    "    \n",
    "    @Override\n",
    "    public String toString() { return \"[\"+value+\"]\"; }\n",
    "}"
   ]
  },
  {
   "cell_type": "code",
   "execution_count": 2,
   "metadata": {},
   "outputs": [
    {
     "name": "stdout",
     "output_type": "stream",
     "text": [
      "b1: [45]\n"
     ]
    },
    {
     "data": {
      "text/plain": [
       "null"
      ]
     },
     "execution_count": 2,
     "metadata": {},
     "output_type": "execute_result"
    }
   ],
   "source": [
    "Box<Integer> b1 = new Box(45);\n",
    "System.out.println(\"b1: \"+b1);"
   ]
  },
  {
   "cell_type": "code",
   "execution_count": 3,
   "metadata": {},
   "outputs": [
    {
     "data": {
      "text/plain": [
       "null"
      ]
     },
     "execution_count": 3,
     "metadata": {},
     "output_type": "execute_result"
    }
   ],
   "source": [
    "abstract class Shape {\n",
    "  private String name;\n",
    "  private String color;\n",
    "\n",
    "  public Shape(String name, String color) {\n",
    "    this.name = name;\n",
    "    this.color = color;\n",
    "  }\n",
    "\n",
    "  public String getName() { return name; }\n",
    "  public String getColor() { return color; }\n",
    "  public void setColor(String color) { this.color = color; }\n",
    "\n",
    "  public String toString() { return name+\" (\"+color+\")\"; }\n",
    "    \n",
    "  public abstract double area();\n",
    "  public abstract double perimeter();\n",
    "  public abstract double[] dimensions();\n",
    "}"
   ]
  },
  {
   "cell_type": "code",
   "execution_count": 4,
   "metadata": {},
   "outputs": [
    {
     "data": {
      "text/plain": [
       "null"
      ]
     },
     "execution_count": 4,
     "metadata": {},
     "output_type": "execute_result"
    }
   ],
   "source": [
    "class Rectangle extends Shape\n",
    "{\n",
    "  private double height;\n",
    "  private double width;\n",
    "\n",
    "  public Rectangle(String name, double h, double w)\n",
    "  {\n",
    "    super(name, \"Blue\");\n",
    "    height = h;\n",
    "    width = w;\n",
    "  }\n",
    "\n",
    "  public double area() { return height*width; }\n",
    "\n",
    "  public double perimeter() { return 2*height + 2*width; }\n",
    "\n",
    "  public double[] dimensions() { \n",
    "    double[] dim = { height, width };\n",
    "    return dim; \n",
    "  }\n",
    "}"
   ]
  },
  {
   "cell_type": "code",
   "execution_count": 5,
   "metadata": {},
   "outputs": [
    {
     "name": "stdout",
     "output_type": "stream",
     "text": [
      "b2: [Rectangle (Blue)]\n"
     ]
    },
    {
     "data": {
      "text/plain": [
       "null"
      ]
     },
     "execution_count": 5,
     "metadata": {},
     "output_type": "execute_result"
    }
   ],
   "source": [
    "Box<Shape> b2 = new Box<Shape>(new Rectangle(\"Rectangle\",5,9));\n",
    "System.out.println(\"b2: \" +b2);"
   ]
  },
  {
   "cell_type": "code",
   "execution_count": 6,
   "metadata": {},
   "outputs": [
    {
     "ename": "",
     "evalue": "",
     "output_type": "error",
     "traceback": [
      "\u001b[1;31m\u001b[0;0m",
      "\u001b[1;31m\u001b[0;0m",
      "\u001b[1;31mbshape = brect;\u001b[0;0m",
      "\u001b[1;31mincompatible types: Box<Rectangle> cannot be converted to Box<Shape>\u001b[0;0m"
     ]
    }
   ],
   "source": [
    "Box<Rectangle> brect = new Box<Rectangle>(new Rectangle(\"Rectangle\",5,9));\n",
    "\n",
    "Box<Shape> bshape;\n",
    "\n",
    "bshape = brect;"
   ]
  },
  {
   "cell_type": "markdown",
   "metadata": {},
   "source": [
    "### Bounding Type Parameters"
   ]
  },
  {
   "cell_type": "code",
   "execution_count": 7,
   "metadata": {},
   "outputs": [
    {
     "ename": "class Compute",
     "evalue": "class Compute",
     "output_type": "error",
     "traceback": [
      "\u001b[1;31mclass Compute\u001b[0;0m",
      "\u001b[1;31m{\u001b[0;0m",
      "\u001b[1;31mpublic static <T> void area(T fig) {\u001b[0;0m",
      "\u001b[1;31mSystem.out.println(fig+\" area: \"+fig.area());\u001b[0;0m",
      "\u001b[1;31m}\u001b[0;0m",
      "\u001b[1;31m}\u001b[0;0m",
      "\u001b[1;31mcannot find symbol\u001b[0;0m",
      "\u001b[1;31m  symbol:   method area()\u001b[0;0m",
      "\u001b[1;31m  location: variable fig of type T\u001b[0;0m"
     ]
    }
   ],
   "source": [
    "class Compute\n",
    "{\n",
    "    public static <T> void area(T fig) {\n",
    "        System.out.println(fig+\" area: \"+fig.area());\n",
    "    }\n",
    "}"
   ]
  },
  {
   "cell_type": "code",
   "execution_count": 8,
   "metadata": {},
   "outputs": [
    {
     "data": {
      "text/plain": [
       "null"
      ]
     },
     "execution_count": 8,
     "metadata": {},
     "output_type": "execute_result"
    }
   ],
   "source": [
    "class Compute\n",
    "{\n",
    "    public static <T extends Shape> void area(T fig) {\n",
    "        System.out.println(fig + \" area: \" + fig.area());\n",
    "    }\n",
    "}"
   ]
  },
  {
   "cell_type": "code",
   "execution_count": 9,
   "metadata": {},
   "outputs": [
    {
     "data": {
      "text/plain": [
       "null"
      ]
     },
     "execution_count": 9,
     "metadata": {},
     "output_type": "execute_result"
    }
   ],
   "source": [
    "class Square extends Rectangle\n",
    "{\n",
    "  public Square(String name, double side)\n",
    "  {\n",
    "    super(name, side, side);\n",
    "    setColor(\"Purple\");\n",
    "  }\n",
    "}"
   ]
  },
  {
   "cell_type": "code",
   "execution_count": 10,
   "metadata": {},
   "outputs": [
    {
     "name": "stdout",
     "output_type": "stream",
     "text": [
      "Rect1 (Blue) area: 20.0\n",
      "Square1 (Purple) area: 64.0\n"
     ]
    },
    {
     "data": {
      "text/plain": [
       "null"
      ]
     },
     "execution_count": 10,
     "metadata": {},
     "output_type": "execute_result"
    }
   ],
   "source": [
    "Rectangle rect = new Rectangle(\"Rect1\",5,4);\n",
    "Square sqr = new Square(\"Square1\",8);\n",
    "\n",
    "Compute.area(rect);\n",
    "Compute.area(sqr);"
   ]
  },
  {
   "cell_type": "code",
   "execution_count": 11,
   "metadata": {},
   "outputs": [
    {
     "data": {
      "text/plain": [
       "null"
      ]
     },
     "execution_count": 11,
     "metadata": {},
     "output_type": "execute_result"
    }
   ],
   "source": [
    "class Circle extends Shape\n",
    "{\n",
    "    private int radius;\n",
    "    \n",
    "    public Circle(String name, int radius) { \n",
    "        super(name,\"Yellow\");\n",
    "        this.radius = radius; \n",
    "    }\n",
    "    \n",
    "    public double area() { return Math.PI*radius*radius; }\n",
    "    \n",
    "    public double perimeter() { return 2*Math.PI*radius; }\n",
    "    \n",
    "    public double[] dimensions() { return new double[]{2*radius, 2*radius}; }\n",
    "}"
   ]
  },
  {
   "cell_type": "code",
   "execution_count": 12,
   "metadata": {},
   "outputs": [
    {
     "name": "stdout",
     "output_type": "stream",
     "text": [
      "Circle1 (Yellow)\n",
      "Circle1 (Yellow) area: 113.09733552923255\n"
     ]
    },
    {
     "data": {
      "text/plain": [
       "null"
      ]
     },
     "execution_count": 12,
     "metadata": {},
     "output_type": "execute_result"
    }
   ],
   "source": [
    "Circle circ = new Circle(\"Circle1\", 6);\n",
    "System.out.println(circ);\n",
    "\n",
    "Compute.area(circ);"
   ]
  },
  {
   "cell_type": "markdown",
   "metadata": {},
   "source": [
    "### Wildcards "
   ]
  },
  {
   "cell_type": "code",
   "execution_count": 13,
   "metadata": {},
   "outputs": [
    {
     "data": {
      "text/plain": [
       "null"
      ]
     },
     "execution_count": 13,
     "metadata": {},
     "output_type": "execute_result"
    }
   ],
   "source": [
    "class ComputeRaw\n",
    "{\n",
    "    public static void rawData(Box<?> box) {\n",
    "        System.out.println(box+\" value: \" + box.getValue());\n",
    "    }\n",
    "}"
   ]
  },
  {
   "cell_type": "code",
   "execution_count": 14,
   "metadata": {},
   "outputs": [
    {
     "ename": "",
     "evalue": "",
     "output_type": "error",
     "traceback": [
      "\u001b[1;31m\u001b[0;0m",
      "\u001b[1;31mComputeRaw.rawData(i);\u001b[0;0m",
      "\u001b[1;31mincompatible types: java.lang.Integer cannot be converted to Box<?>\u001b[0;0m"
     ]
    }
   ],
   "source": [
    "Box<Integer> b1 = new Box(5);\n",
    "Box<Shape> b2 = new Box<Shape>(new Rectangle(\"Rectangle\",5,9));\n",
    "\n",
    "Integer i = 8;\n",
    "ComputeRaw.rawData(i); // Compilation error\n",
    "ComputeRaw.rawData(b1);\n",
    "ComputeRaw.rawData(b2);"
   ]
  },
  {
   "cell_type": "markdown",
   "metadata": {},
   "source": [
    "### Bounded Wildcards\n",
    "\n",
    "![](http://www.plantuml.com/plantuml/png/SoWkIImgAStDuGhEI2n8LR2fqTNLLGXAJIv9p4lFIUNYWZ5XKi65fOb5G75avSwPHSb0jGwfUIb0am00)"
   ]
  },
  {
   "cell_type": "code",
   "execution_count": 15,
   "metadata": {},
   "outputs": [
    {
     "data": {
      "text/plain": [
       "null"
      ]
     },
     "execution_count": 15,
     "metadata": {},
     "output_type": "execute_result"
    }
   ],
   "source": [
    "class ComputeRaw2\n",
    "{\n",
    "    // Only accept a Box with a parameters extends from Shape\n",
    "    // Shape is the upper bound of the wildcard\n",
    "    public static void rawData(Box<? extends Shape> box) {\n",
    "        System.out.println(box + \" value: \" + box.getValue());\n",
    "    }\n",
    "}"
   ]
  },
  {
   "cell_type": "code",
   "execution_count": 16,
   "metadata": {},
   "outputs": [
    {
     "name": "stdout",
     "output_type": "stream",
     "text": [
      "[Rectangle (Blue)] value: Rectangle (Blue)\n",
      "[Circle1 (Yellow)] value: Circle1 (Yellow)\n"
     ]
    },
    {
     "data": {
      "text/plain": [
       "null"
      ]
     },
     "execution_count": 16,
     "metadata": {},
     "output_type": "execute_result"
    }
   ],
   "source": [
    "Box<Integer> b1 = new Box(5);\n",
    "Box<Rectangle> b2 = new Box<Rectangle>(new Rectangle(\"Rectangle\",5,9));\n",
    "Box<Circle> b3 = new Box<Circle>(new Circle(\"Circle1\", 6));\n",
    "\n",
    "// ComputeRaw2.rawData(b1); // Compilation error\n",
    "ComputeRaw2.rawData(b2);\n",
    "ComputeRaw2.rawData(b3);"
   ]
  },
  {
   "cell_type": "code",
   "execution_count": 17,
   "metadata": {},
   "outputs": [
    {
     "data": {
      "text/plain": [
       "null"
      ]
     },
     "execution_count": 17,
     "metadata": {},
     "output_type": "execute_result"
    }
   ],
   "source": [
    "class ComputeRaw3\n",
    "{\n",
    "    // Only accept a Box with a parameters is a super class of Square\n",
    "    // Square is the lower bound of the wildcard\n",
    "    public static void rawData(Box<? super Square> box) {\n",
    "        System.out.println(box+\" value: \" + box.getValue());\n",
    "    }\n",
    "}"
   ]
  },
  {
   "cell_type": "code",
   "execution_count": 18,
   "metadata": {},
   "outputs": [
    {
     "name": "stdout",
     "output_type": "stream",
     "text": [
      "[Rectangle (Blue)] value: Rectangle (Blue)\n",
      "[Square1 (Purple)] value: Square1 (Purple)\n"
     ]
    },
    {
     "data": {
      "text/plain": [
       "null"
      ]
     },
     "execution_count": 18,
     "metadata": {},
     "output_type": "execute_result"
    }
   ],
   "source": [
    "Box<Rectangle> b1 = new Box<Rectangle>(new Rectangle(\"Rectangle\",5,9));\n",
    "Box<Circle> b2 = new Box<Circle>(new Circle(\"Circle1\", 6));\n",
    "Box<Square> b3 = new Box<Square>(new Square(\"Square1\", 9));\n",
    "\n",
    "ComputeRaw3.rawData(b1);\n",
    "// ComputeRaw3.rawData(b2);  // Compilation error\n",
    "ComputeRaw3.rawData(b3);"
   ]
  },
  {
   "cell_type": "markdown",
   "metadata": {},
   "source": [
    "## Unit Testing"
   ]
  },
  {
   "cell_type": "markdown",
   "metadata": {},
   "source": [
    "### Levels of Testing\n",
    "\n",
    "- **Unit Testing**: individual units (a class) of a software are tested. The purpose is to validate that each unit of the software performs as designed.\n",
    "- **Integration Testing**: individual units are combined and tested as a group. The purpose of this level of testing is to expose faults in the interaction between integrated units.\n",
    "- **System Testing**: a complete (integrated) system is tested. The purpose of this test is to evaluate the system?s compliance with the specified requirements.\n",
    "- **Acceptance Testing**: a system is tested for acceptability. The purpose of this test is to evaluate the system?s compliance with the business requirements and assess whether it is acceptable for delivery.\n"
   ]
  },
  {
   "cell_type": "code",
   "execution_count": 19,
   "metadata": {},
   "outputs": [
    {
     "data": {
      "application/vnd.jupyter.widget-view+json": {
       "model_id": "",
       "version_major": 2,
       "version_minor": 0
      },
      "method": "display_data"
     },
     "metadata": {},
     "output_type": "display_data"
    },
    {
     "data": {
      "application/vnd.jupyter.widget-view+json": {
       "model_id": "7b1ee2f3-4c24-4004-83d9-a9572310e43f",
       "version_major": 2,
       "version_minor": 0
      },
      "method": "display_data"
     },
     "metadata": {},
     "output_type": "display_data"
    }
   ],
   "source": [
    "%%classpath add mvn\n",
    "junit junit 4.12"
   ]
  },
  {
   "cell_type": "code",
   "execution_count": 20,
   "metadata": {},
   "outputs": [
    {
     "data": {
      "text/plain": [
       "null"
      ]
     },
     "execution_count": 20,
     "metadata": {},
     "output_type": "execute_result"
    }
   ],
   "source": [
    "class CharEater\n",
    "{\n",
    "  private char chr;\n",
    "  \n",
    "  public CharEater(char c) { chr = c; }\n",
    "    \n",
    "  public String eat(String str) {\n",
    "      String res = \"\";\n",
    "      for(char c : str.toCharArray()) {\n",
    "        if (chr == c)\n",
    "            res += \" \";\n",
    "        else\n",
    "            res += c;\n",
    "      }\n",
    "      return res;\n",
    "  }\n",
    "}"
   ]
  },
  {
   "cell_type": "code",
   "execution_count": 21,
   "metadata": {},
   "outputs": [
    {
     "name": "stdout",
     "output_type": "stream",
     "text": [
      "He  o, wor d!\n"
     ]
    },
    {
     "data": {
      "text/plain": [
       "null"
      ]
     },
     "execution_count": 21,
     "metadata": {},
     "output_type": "execute_result"
    }
   ],
   "source": [
    "CharEater l_eater = new CharEater('l');\n",
    "String res = l_eater.eat(\"Hello, world!\");\n",
    "System.out.println(res);"
   ]
  },
  {
   "cell_type": "code",
   "execution_count": 22,
   "metadata": {},
   "outputs": [
    {
     "data": {
      "text/plain": [
       "null"
      ]
     },
     "execution_count": 22,
     "metadata": {},
     "output_type": "execute_result"
    }
   ],
   "source": [
    "import static org.junit.Assert.*;\n",
    "import org.junit.*;\n",
    "\n",
    "public class CharEaterTest {\n",
    "    \n",
    "  CharEater charEater = null; \n",
    "  \n",
    "  @Before\n",
    "  public void resetCharEater() {\n",
    "    charEater = null;\n",
    "  }\n",
    "    \n",
    "  @Test\n",
    "  public void testCreation() {\n",
    "    charEater = new CharEater(' ');\n",
    "    assertNotNull(charEater);\n",
    "  }  \n",
    "    \n",
    "  @Test\n",
    "  public void testEat_l() {\n",
    "    charEater = new CharEater('l');\n",
    "    String res = charEater.eat(\"Hello, World!\");\n",
    "    assertEquals(\"He  o, Wor d!\", res);\n",
    "  }\n",
    "\n",
    "  @Test\n",
    "  public void testEat_space() {\n",
    "    charEater = new CharEater(' ');\n",
    "    String res = charEater.eat(\"Hello, World!\");\n",
    "    assertEquals(\"Hello, World!\", res);\n",
    "  }\n",
    "\n",
    "  @Test\n",
    "  public void testEat_nothing() {\n",
    "    charEater = new CharEater('a');\n",
    "    String res = charEater.eat(\"Hello, World!\");\n",
    "    assertEquals(\"Hello, World!\", res);\n",
    "  }\n",
    "}"
   ]
  },
  {
   "cell_type": "code",
   "execution_count": 23,
   "metadata": {},
   "outputs": [
    {
     "name": "stdout",
     "output_type": "stream",
     "text": [
      "....\n",
      "Time: 0.006\n",
      "\n",
      "OK (4 tests)\n",
      "\n"
     ]
    },
    {
     "data": {
      "text/plain": [
       "org.junit.runner.Result@7462746b"
      ]
     },
     "execution_count": 23,
     "metadata": {},
     "output_type": "execute_result"
    }
   ],
   "source": [
    "import org.junit.runner.JUnitCore;\n",
    "import org.junit.internal.TextListener;\n",
    "\n",
    "JUnitCore junit = new JUnitCore();\n",
    "junit.addListener(new TextListener(System.out));\n",
    "junit.run(CharEaterTest.class);"
   ]
  },
  {
   "cell_type": "code",
   "execution_count": 24,
   "metadata": {},
   "outputs": [
    {
     "data": {
      "text/plain": [
       "null"
      ]
     },
     "execution_count": 24,
     "metadata": {},
     "output_type": "execute_result"
    }
   ],
   "source": [
    "import static org.junit.Assert.*;\n",
    "import org.junit.*;\n",
    "\n",
    "public class AssertionTest\n",
    "{\n",
    "  @Before\n",
    "  public void beforeTest() {\n",
    "    System.out.println(\"/ Executed before any test\");\n",
    "  }\n",
    "    \n",
    "  @After\n",
    "  public void afterTest() {\n",
    "    System.out.println(\"\\\\ Executed after any test\");\n",
    "  }\n",
    "  \n",
    "  @Test\n",
    "  public void trueTest() {\n",
    "    assertTrue(true);\n",
    "  }\n",
    "\n",
    "  @Test\n",
    "  public void falseTest() {\n",
    "    assertFalse(false);\n",
    "  }\n",
    "\n",
    "  @Test\n",
    "  public void nullTest() {\n",
    "    Object obj = null;\n",
    "    assertNull(obj);\n",
    "  }\n",
    "\n",
    "  @Test\n",
    "  public void sameTest() {\n",
    "    Integer a = 6;\n",
    "    Object b = a;\n",
    "    assertSame(a,b);\n",
    "  }\n",
    "}"
   ]
  },
  {
   "cell_type": "code",
   "execution_count": 25,
   "metadata": {},
   "outputs": [
    {
     "name": "stdout",
     "output_type": "stream",
     "text": [
      "./ Executed before any test\n",
      "\\ Executed after any test\n",
      "./ Executed before any test\n",
      "\\ Executed after any test\n",
      "./ Executed before any test\n",
      "\\ Executed after any test\n",
      "./ Executed before any test\n",
      "\\ Executed after any test\n",
      "\n",
      "Time: 0.008\n",
      "\n",
      "OK (4 tests)\n",
      "\n"
     ]
    },
    {
     "data": {
      "text/plain": [
       "org.junit.runner.Result@7ded8c33"
      ]
     },
     "execution_count": 25,
     "metadata": {},
     "output_type": "execute_result"
    }
   ],
   "source": [
    "import org.junit.runner.JUnitCore;\n",
    "import org.junit.internal.TextListener;\n",
    "\n",
    "JUnitCore junit = new JUnitCore();\n",
    "junit.addListener(new TextListener(System.out));\n",
    "junit.run(AssertionTest.class);"
   ]
  },
  {
   "cell_type": "markdown",
   "metadata": {},
   "source": [
    "## Data Structures"
   ]
  },
  {
   "cell_type": "markdown",
   "metadata": {},
   "source": [
    "- Linear data structures (Single level)\n",
    "    - Array\n",
    "    - List\n",
    "    - Vector\n",
    "    - Set\n",
    "    - Queue\n",
    "    - Stack\n",
    "    - ...\n",
    "    \n",
    "- Non-linear structures (Multiple levels)\n",
    "    - Tree (Binary search tree, AVL tree, Red-black tree, B+ tree, K-d tree, Abstract Syntax Tree,...)\n",
    "    - Graph"
   ]
  },
  {
   "cell_type": "markdown",
   "metadata": {},
   "source": [
    "### Skip list\n",
    "\n",
    "Skip List is a data structure that is used for storing a _sorted list_ of items with a help of hierarchy of linked lists that connect increasingly sparse subsequences of the items.\n",
    "\n",
    "The Skip List data structure skips over many of the items of the full list in one step. A Skip List is built up of layers. The lowest layer (i.e. bottom layer) is an ordinary ordered linked list. The higher layers are like express lane where the nodes are skipped.\n",
    "\n",
    "\n",
    "<img src=\"images/SkipList.png\" width=\"600\"/>"
   ]
  },
  {
   "cell_type": "markdown",
   "metadata": {},
   "source": [
    "## Iterators"
   ]
  },
  {
   "cell_type": "markdown",
   "metadata": {},
   "source": [
    "An Iterator is the mechanism that Java provides for stepping through all elements in any collection.\n",
    "\n",
    "The Java API has a generic interface called `Iterator<T>` that specifies what methods are required of an iterator\n",
    "\n",
    "`public boolean hasNext()`: returns true if there are more elements in the iteration\n",
    "\n",
    "`public T next()`: returns the next element in the iteration\n",
    "\n",
    "`public void remove()`: removes the last element returned by the iterator (optional operation)"
   ]
  },
  {
   "cell_type": "code",
   "execution_count": 26,
   "metadata": {},
   "outputs": [
    {
     "data": {
      "text/plain": [
       "null"
      ]
     },
     "execution_count": 26,
     "metadata": {},
     "output_type": "execute_result"
    }
   ],
   "source": [
    "import java.util.Iterator;\n",
    "import java.util.NoSuchElementException;\n",
    "import java.util.Random;\n",
    "\n",
    "class MyFakeArrayIterator implements Iterator<Integer> {\n",
    "  private int current;\n",
    "  private int size;\n",
    "  private Random random = new Random();\n",
    "\n",
    "  public MyFakeArrayIterator(int n) {\n",
    "    size = n;\n",
    "    current = 0;\n",
    "  }\n",
    "\n",
    "  public boolean hasNext() {\n",
    "    return current < size;\n",
    "  }\n",
    "\n",
    "  public Integer next() {\n",
    "    if (!this.hasNext())\n",
    "        throw new NoSuchElementException();\n",
    "    ++current;\n",
    "    return random.nextInt();\n",
    "  }\n",
    "}"
   ]
  },
  {
   "cell_type": "markdown",
   "metadata": {},
   "source": [
    "Java provides the `Iterable<T>` interface to provide a method to return an iterator"
   ]
  },
  {
   "cell_type": "code",
   "execution_count": 27,
   "metadata": {},
   "outputs": [
    {
     "data": {
      "text/plain": [
       "null"
      ]
     },
     "execution_count": 27,
     "metadata": {},
     "output_type": "execute_result"
    }
   ],
   "source": [
    "class MyFakeArray implements Iterable<Integer>\n",
    "{\n",
    "  private int size;\n",
    "  \n",
    "  public MyFakeArray(int n) { size = n; }\n",
    "  \n",
    "  public MyFakeArrayIterator iterator() {\n",
    "    return new MyFakeArrayIterator(size);\n",
    "  }\n",
    "}"
   ]
  },
  {
   "cell_type": "code",
   "execution_count": 28,
   "metadata": {},
   "outputs": [
    {
     "name": "stdout",
     "output_type": "stream",
     "text": [
      "1142044112\n",
      "-845568870\n",
      "-1876375013\n",
      "178212159\n",
      "-1025358439\n",
      "1693371174\n",
      "105899016\n",
      "1803744679\n",
      "38764833\n",
      "267109487\n"
     ]
    },
    {
     "data": {
      "text/plain": [
       "null"
      ]
     },
     "execution_count": 28,
     "metadata": {},
     "output_type": "execute_result"
    }
   ],
   "source": [
    "MyFakeArray array = new MyFakeArray(10);\n",
    "\n",
    "for (Integer x : array) {\n",
    "  System.out.println(x);\n",
    "}"
   ]
  },
  {
   "cell_type": "markdown",
   "metadata": {},
   "source": [
    "## Java Collections"
   ]
  },
  {
   "cell_type": "markdown",
   "metadata": {},
   "source": [
    "Java Collections Framework \n",
    "- Defines a collection as “an object that represents a group of objects”.\n",
    "- Defines a collections framework as “a unified architecture for representing and manipulating collections, allowing them to be manipulated independent of the details of their representation.”\n",
    "\n",
    "<img src=\"images/java_collections.png\" width=\"700\"/>"
   ]
  },
  {
   "cell_type": "markdown",
   "metadata": {},
   "source": [
    "### `Collection<T>`\n",
    "\n",
    "Top of the class hierarchy is the Collection interface.\n",
    "\n",
    "- `add(Object o)`: Adds the specified object to the collection.\n",
    "- `remove(Object o)`: Removes the specified object from the collection.\n",
    "- `clear()`: Removes all elements from the collection.\n",
    "- `size()`: Returns an integer that indicates how many elements are currently in the collection.\n",
    "- `iterator()`: Returns an object that can be used to retrieve references to the elements in the collection."
   ]
  },
  {
   "cell_type": "markdown",
   "metadata": {},
   "source": [
    "### `List<T>`\n",
    "\n",
    "- `get(int index)`: Returns the object stored at the specified index within the invoking collection.\n",
    "- `indexOf(Object o)`: Returns the index of the first instance of obj in the invoking list. If o is not an element of the list, -1 is returned.\n",
    "- `set(int index, Object o)`: Assigns obj to the location specified by index within the invoking list."
   ]
  },
  {
   "cell_type": "markdown",
   "metadata": {},
   "source": [
    "### `Set<T>`\n",
    "\n",
    "- `contains(Object o)`: Returns true if a specified object is an element within the collection.\n",
    "- `isEmpty()`: Returns true if the collection has no elements."
   ]
  },
  {
   "cell_type": "markdown",
   "metadata": {},
   "source": [
    "### `Queue<T>`\n",
    "\n",
    "- `element()`: Returns a reference to the head element without removing it, throwing an exception if the queue is empty.\n",
    "- `peek()`: Returns a reference to the head element without removing it, returning null if the queue is empty.\n",
    "- `remove()`:Retrieves a reference to the head element and removes it from the queue, throwing an exception if the queue is empty.\n",
    "- `poll()`: Retrieves a reference to the head element and removes it from the queue, returning null if the queue is empty."
   ]
  },
  {
   "cell_type": "markdown",
   "metadata": {},
   "source": [
    "### `Map<K,V>`\n",
    "\n",
    "- `containsKey(Object k)`: Returns true if the invoking map contains k as a key. Otherwise, returns false.\n",
    "- `get(Object k)`: Returns the value associated with the key k.\n",
    "- `put(Object k, Object v)`: Puts an entry in the invoking map, overwriting any previous value associated with the key. Returns null if the key did not already exist. Otherwise, the previous value linked to the key is returned.\n",
    "- `values()`: Returns a collection containing the values in the map. This method provides a collection-view of the values in the map."
   ]
  },
  {
   "cell_type": "code",
   "execution_count": 29,
   "metadata": {},
   "outputs": [
    {
     "data": {
      "text/plain": [
       "null"
      ]
     },
     "execution_count": 29,
     "metadata": {},
     "output_type": "execute_result"
    }
   ],
   "source": [
    "import java.util.*;\n",
    "\n",
    "public class TestAlgorithms\n",
    "{\n",
    "  public static <T> void print(Collection<T> collection) {\n",
    "    int size = collection.size();\n",
    "    Iterator<T> iter = collection.iterator();\n",
    "    while (iter.hasNext()) {\n",
    "      String sep = (--size > 0) ? \", \" : \"\\n\";\n",
    "      System.out.print(iter.next() + sep);\n",
    "    }\n",
    "  }\n",
    "\n",
    "  public static <T extends Comparable<T>> T minimum(Collection<T> collection) {\n",
    "    int pos = 0;\n",
    "    if (collection == null)\n",
    "      return null;\n",
    "    T min = null;\n",
    "    Iterator<T> iter = collection.iterator();\n",
    "    while (iter.hasNext()) {\n",
    "      Comparable<T> val = iter.next();\n",
    "      if (min == null)\n",
    "        min = (T) val;\n",
    "      else\n",
    "        if (val.compareTo(min) < 0)\n",
    "          min = (T) val;\n",
    "    }\n",
    "    return (T) min;\n",
    "  }\n",
    "}"
   ]
  },
  {
   "cell_type": "markdown",
   "metadata": {},
   "source": [
    "### Collections Algorithms"
   ]
  },
  {
   "cell_type": "code",
   "execution_count": 30,
   "metadata": {},
   "outputs": [
    {
     "name": "stdout",
     "output_type": "stream",
     "text": [
      "85, 88, 47, 13, 54, 4, 34, 6, 78, 48, 69, 73, 17, 63, 62, 34, 92, 62\n",
      "List Minimum value: 4\n",
      "\n",
      "4, 6, 13, 17, 34, 47, 48, 54, 62, 63, 69, 73, 78, 85, 88, 92\n",
      "TreeSet Minimum value: 4\n",
      "List Minimum value: 4\n",
      "\n",
      "Binary Search\n",
      "Position of element 73: -9\n",
      "\n",
      "Sort\n",
      "4, 6, 13, 17, 34, 34, 47, 48, 54, 62, 62, 63, 69, 73, 78, 85, 88, 92\n",
      "Position of element 73: 13\n",
      "\n",
      "Rotate 5\n",
      "73, 78, 85, 88, 92, 4, 6, 13, 17, 34, 34, 47, 48, 54, 62, 62, 63, 69\n",
      "\n",
      "Shuffle\n",
      "78, 62, 92, 47, 48, 73, 6, 34, 88, 34, 63, 62, 17, 54, 69, 4, 85, 13\n"
     ]
    },
    {
     "data": {
      "text/plain": [
       "null"
      ]
     },
     "execution_count": 30,
     "metadata": {},
     "output_type": "execute_result"
    }
   ],
   "source": [
    "import java.util.Random;\n",
    "import java.util.*;\n",
    "\n",
    "Random numGenerator = new Random();\n",
    "numGenerator.setSeed(1); \n",
    "\n",
    "List<Integer> list = new ArrayList<Integer>();\n",
    "// List<Integer> list = new LinkedList<>();\n",
    "// List<Integer> list = new Vector<>();\n",
    "Collection<Integer> list2 = new TreeSet();\n",
    "\n",
    "   \n",
    "for (int k=0; k < 18; ++k) {\n",
    "  Integer val = numGenerator.nextInt(100);\n",
    "  list.add(val);\n",
    "  list2.add(val);\n",
    "}\n",
    "\n",
    "TestAlgorithms.print(list);\n",
    "Object res = TestAlgorithms.minimum(list);\n",
    "System.out.println(\"List Minimum value: \" + res + \"\\n\");\n",
    "\n",
    "TestAlgorithms.print(list2);\n",
    "Object res2 = TestAlgorithms.minimum(list);\n",
    "System.out.println(\"TreeSet Minimum value: \" + res);\n",
    "\n",
    "\n",
    "Integer min = Collections.min(list);\n",
    "System.out.println(\"List Minimum value: \" + min);\n",
    " \n",
    "System.out.println(\"\\nBinary Search\");\n",
    "Integer value = list.get(11);\n",
    "// Integer value = 73; \n",
    "int pos = Collections.binarySearch(list, value);\n",
    "System.out.println(\"Position of element \"+value+\": \" + pos);\n",
    "\n",
    "System.out.println(\"\\nSort\");\n",
    "Collections.sort(list);\n",
    "TestAlgorithms.print(list);\n",
    "pos = Collections.binarySearch(list, value);\n",
    "System.out.println(\"Position of element \"+value+\": \" + pos);\n",
    "\n",
    "System.out.println(\"\\nRotate 5\");\n",
    "Collections.rotate(list,5);\n",
    "TestAlgorithms.print(list);\n",
    "\n",
    "System.out.println(\"\\nShuffle\");\n",
    "Collections.shuffle(list);\n",
    "TestAlgorithms.print(list);\n"
   ]
  },
  {
   "cell_type": "markdown",
   "metadata": {},
   "source": [
    "## Association, Aggregation and Composition"
   ]
  },
  {
   "cell_type": "markdown",
   "metadata": {},
   "source": [
    "Super classes are often said to be *fragile*, because any change can ripple out and require changes in many other places in the application's code.\n",
    "\n",
    "Changes to the superclass's interface, can ripple out and break any code that uses the superclass or any of its subclasses. A change in the superclass interface can break the code that defines any of its subclasses."
   ]
  },
  {
   "cell_type": "markdown",
   "metadata": {},
   "source": [
    "### Association\n",
    "\n",
    "An **association** defines a relationship between classes that allows one object instance to cause another to perform an action on its behalf. It refers to how objects are related to each other and how they are using each other's functionality.\n",
    "\n",
    "![](http://www.plantuml.com/plantuml/png/SoWkIImgAStDuKhEIImkLd1EBEBYSYdAB4ijKj05yHIi5590t685Eow7rBmKe580)\n",
    "\n",
    "This relationship is structural, because it specifies that objects of one kind are connected to objects of another and does not represent behaviour.\n",
    "\n",
    "An association between two objects can reference more than one object of the same type."
   ]
  },
  {
   "cell_type": "markdown",
   "metadata": {},
   "source": [
    "**Association end multiplicity** defines the number of entity type instances that can be at one end of an association.\n",
    "\n",
    "- **one (1)**: Indicates that exactly one entity type instance exists at the association end.\n",
    "- **zero or one (0..1)**: Indicates that zero or one entity type instances exist at the association end.\n",
    "- **many (*)**: Indicates that zero, one, or more entity type instances exist at the association end.\n",
    "\n",
    "<img src=\"images/association.png\" width=\"500\"/>"
   ]
  },
  {
   "cell_type": "markdown",
   "metadata": {},
   "source": [
    "There are two types of association: \n",
    "- Aggregation\n",
    "- Composition \n",
    "\n",
    "Aggregation is a special form of association and  composition is a special form of aggregation.\n",
    "\n",
    "<img src=\"images/association2.png\" width=\"400\"/>"
   ]
  },
  {
   "cell_type": "markdown",
   "metadata": {},
   "source": [
    "### Aggregation\n",
    "\n",
    "**Aggregation** is a weak association. An association is said to be aggregation if both Objects can exist independently. \n",
    "\n",
    "- it is binary association\n",
    "- it is asymmetric - only one end of association can be an aggregation\n",
    "- it is transitive - aggregation links should form a directed, acyclic graph, so that no composite instance could be indirect part of itself.\n",
    "\n",
    "Represents a **HAS-A** relationship.\n",
    "\n",
    "![](http://www.plantuml.com/plantuml/png/SoWkIImgAStDuNBDBSZ9hqnDLT3LpLTmIIq02kUcvfLmEQJcfG3b0G00)"
   ]
  },
  {
   "cell_type": "markdown",
   "metadata": {},
   "source": [
    "### Composition\n",
    "\n",
    "The **composition** is the strong type of association. An association is said to composition if an Object owns another object and another object cannot exist without the owner object.\n",
    "- it is binary association\n",
    "- it is asymmetric - only one end of association can be a composition\n",
    "- it is transitive - aggregation links should form a directed, acyclic graph, so that no composite instance could be indirect part of itself.\n",
    "\n",
    "Composition is a **PART-OF** relationship\n",
    "\n",
    "![](http://www.plantuml.com/plantuml/png/SoWkIImgAStDuVB8BorELL0oL5BGqjMrKmZApy_bSaZDIm7A0G00)\n",
    "\n",
    "In a composition relationship, the front-end class holds a reference in one of its instance variables to a back-end class. (Room is **part-of** House)"
   ]
  },
  {
   "cell_type": "markdown",
   "metadata": {},
   "source": [
    "### Code reuse\n",
    "\n",
    "- With **inheritance**, a subclass automatically inherits an implementation of any non-private superclass method that it doesn't override.\n",
    "\n",
    "- With **association**, the front-end class must explicitly invoke a corresponding method in the back-end class from its own implementation of the method.\n"
   ]
  },
  {
   "cell_type": "code",
   "execution_count": 31,
   "metadata": {},
   "outputs": [
    {
     "data": {
      "text/plain": [
       "null"
      ]
     },
     "execution_count": 31,
     "metadata": {},
     "output_type": "execute_result"
    }
   ],
   "source": [
    "class Employee\n",
    "{\n",
    "  private static int counter = 0;\n",
    "  private final int id;\n",
    "  private String name;\n",
    "\n",
    "  Employee(String name) {\n",
    "    this.name = name;\n",
    "    id = ++counter;\n",
    "  }\n",
    "\n",
    "  public int getId() {\n",
    "    return id;\n",
    "  }\n",
    "\n",
    "  public String getName() {\n",
    "    return name;\n",
    "  }\n",
    "}"
   ]
  },
  {
   "cell_type": "code",
   "execution_count": 32,
   "metadata": {},
   "outputs": [
    {
     "data": {
      "text/plain": [
       "null"
      ]
     },
     "execution_count": 32,
     "metadata": {},
     "output_type": "execute_result"
    }
   ],
   "source": [
    "class Manager {\n",
    "  private Employee employee; // <---- association\n",
    "\n",
    "  Manager(String name) {\n",
    "    employee = new Employee(name); \n",
    "  }\n",
    "  \n",
    "  public int getId() { \n",
    "    return employee.getId(); \n",
    "  }\n",
    "\n",
    "  public String getName() {\n",
    "    return employee.getName();\n",
    "  }\n",
    "}"
   ]
  },
  {
   "cell_type": "code",
   "execution_count": 33,
   "metadata": {},
   "outputs": [
    {
     "name": "stdout",
     "output_type": "stream",
     "text": [
      "John id:1\n"
     ]
    },
    {
     "data": {
      "text/plain": [
       "null"
      ]
     },
     "execution_count": 33,
     "metadata": {},
     "output_type": "execute_result"
    }
   ],
   "source": [
    "Manager mng = new Manager(\"John\");\n",
    "int mngId = mng.getId();\n",
    "System.out.println(mng.getName() + \" id:\" + mngId);"
   ]
  },
  {
   "cell_type": "markdown",
   "metadata": {},
   "source": [
    "## Design Process"
   ]
  },
  {
   "cell_type": "markdown",
   "metadata": {},
   "source": [
    "Design involves discovery, invention, and intuitive leaps from one abstraction level to another.\n",
    "Design work is iterative, and it must be driven by feedback from all involved parties.\n",
    "\n",
    "<img src=\"images/design_framework.png\" width=\"500\"/>"
   ]
  },
  {
   "cell_type": "markdown",
   "metadata": {},
   "source": [
    "A **Software Design Process**, (Software Development Life Cycle - SDLC) is the process of dividing software development work into distinct phases to improve design, product management, and project management."
   ]
  },
  {
   "cell_type": "markdown",
   "metadata": {},
   "source": [
    "### Waterfall\n",
    "\n",
    "<img src=\"images/water_fall.png\" width=\"600\"/>\n",
    "\n",
    "- **Pros**\n",
    "    - Can work well for projects that are very well understood but complex\n",
    "    - Tackles all planning upfront\n",
    "    - The ideal of no midstream changes equates to an efficient software development process\n",
    "    - Supports inexperienced teams\n",
    "    - Reviews at each stage determine if the product is ready to advance\n",
    "\n",
    "- **Cons**\n",
    "    - Difficult to specify all requirements of a stage completely and correctly upfront\n",
    "        - requires a lot of planning up front (not always easy)\n",
    "        - assumes requirements will be clear and well-understood\n",
    "    - Rigid, linear; not adaptable to change in the product\n",
    "    - Costly to \"swim upstream\" back to a previous phase\n",
    "    - No sense of progress until the very end. Solutions are inflexible\n",
    "    - Integration occurs at the very end\n",
    "    - Delivered product may not match customer needs\n",
    "    - Inertia means change is costly"
   ]
  },
  {
   "cell_type": "markdown",
   "metadata": {},
   "source": [
    "### Spiral \n",
    "\n",
    "<img src=\"images/spiral.png\" width=\"600\"/>\n",
    "\n",
    "- **Pros**\n",
    "    - Especially appropriate at the beginning of the project, when the requirements are still not completely clear\n",
    "    - Provides early indication of unforeseen problems\n",
    "    - Accommodates change\n",
    "    - As costs increase, risks decrease!\n",
    "    - Always addresses the biggest risk first\n",
    "\n",
    "- **Cons**\n",
    "    - A lot of planning and management\n",
    "    - Requires customer and contract flexibility\n",
    "    - Developers must be able to assess risk\n",
    "    - Must address most important issues\n"
   ]
  },
  {
   "cell_type": "markdown",
   "metadata": {},
   "source": [
    "### Agile development \n",
    "\n",
    "Comprises various approaches to software development under which requirements and solutions evolve through the collaborative effort of self-organizing and cross-functional teams (developers, customers, and end users).\n",
    "\n",
    "Promotes:\n",
    "- adaptive planning (rapid and flexible response to change) \n",
    "- evolutionary development (incremental development)\n",
    "- early delivery (frequent \"releases\" in short development cycles)\n",
    "- continual improvement (test everything, test constantly).\n",
    "\n",
    "In *Agile software development*, users can frequently validate new pieces of software and take decisions that could lead to a re-planning. Iterative product development allows the software to evolve in response to changes in the business environment or market requirements."
   ]
  },
  {
   "cell_type": "markdown",
   "metadata": {},
   "source": [
    "### Test-driven Development\n",
    "\n",
    "**TDD** is a software development process that relies on the *repetition* of a very short development cycle.\n",
    "\n",
    "Requirements are turned into very specific test cases, then the software is improved so that the tests pass.\n",
    "\n",
    "Each cycle is composed of:\n",
    "- Add a test (based on use cases and user stories)\n",
    "- Run all test and see in the test fails\n",
    "- Write the code (enough to pass the test)\n",
    "- Run tests\n",
    "- Refactor code (move, remove, rename, modify logic, , etc.)"
   ]
  },
  {
   "cell_type": "markdown",
   "metadata": {},
   "source": [
    "### Modularization\n",
    "\n",
    "- Modularization is a technique to divide a software system into multiple discrete and independent modules, which are expected to be capable of carrying out task(s) independently.\n",
    "\n",
    "- Modules may work as basic constructs for the entire software. Designers tend to design modules such that they can be executed and/or compiled separately and independently.\n",
    "\n",
    "Advantage of modularization:\n",
    "- Smaller components are easier to maintain\n",
    "- Program can be divided based on functional aspects\n",
    "- Desired level of abstraction can be brought in the program\n",
    "- Components with high cohesion can be re-used again\n",
    "- Concurrent execution can be made possible\n",
    "- Desired from security aspect\n",
    "\n",
    "Classes that are highly dependent on one another are considered **highly coupled**.\n",
    "\n",
    "To promote a high level of maintainability, keep the coupling level of your classes as ***low*** as possible."
   ]
  },
  {
   "cell_type": "markdown",
   "metadata": {},
   "source": [
    "## Refactoring"
   ]
  },
  {
   "cell_type": "markdown",
   "metadata": {},
   "source": [
    "Refactoring is a technique for restructuring an existing body of code, altering its internal structure without changing its external behavior. It's allows clean up code, reducing the chances of introducing bugs. \n",
    "\n",
    "When you refactor, you are improving the design (nonfunctional attributes) of the code after it has been written."
   ]
  },
  {
   "cell_type": "code",
   "execution_count": null,
   "metadata": {},
   "outputs": [],
   "source": [
    "class CodeQuality {   \n",
    "\n",
    "  // Before refactoring\n",
    "  public void add(Object element) {\n",
    "    if (!readOnly) {\n",
    "      int newSize = size + 1;\n",
    "      if (newSize > elements.length) {\n",
    "        Object[] newElements = new Object[elements.length+10];\n",
    "        for(int i=0; i<size; i++)\n",
    "          newElements[i] = elements[i];\n",
    "        elements = newElements;\n",
    "      }\n",
    "      elements[size++] = element;\n",
    "    }\n",
    "  }\n",
    "    \n",
    "  // After refactoring\n",
    "  public void add(Object element) {\n",
    "    if (readOnly)\n",
    "      return;\n",
    "    if (atCapacity())\n",
    "      grow();\n",
    "    addElement(element);\n",
    "  }\n",
    "\n",
    "}\n"
   ]
  },
  {
   "cell_type": "markdown",
   "metadata": {},
   "source": [
    "Advantages of refactoring:\n",
    "- improves code readability and reduced complexity\n",
    "- improves source-code maintainability\n",
    "- create a more expressive internal architecture or object model to improve extensibility.\n",
    "\n",
    "What is **not** refactoring:\n",
    "- Adding new functionality is not refactoring\n",
    "- Debugging is not refactoring\n",
    "- Optimization is not refactoring \n",
    "- Changing code that does not compile is not refactoring\n",
    "- Massive changes is not refactoring\n",
    "- Refactoring is not change without automated tests"
   ]
  },
  {
   "cell_type": "markdown",
   "metadata": {},
   "source": [
    "### Refactoring techniques\n",
    "\n",
    "- **Composing methods**: techniques oriented to streamline methods, remove code duplication, and prepare the code for future improvements.\n",
    "    - Extract methods\n",
    "    - Inline methods\n",
    "    - Extract variable\n",
    "    - Inline temporal\n",
    "    - Replace temporal with query\n",
    "    - Split temporary variables\n",
    "    - Remove Assignments to parameters\n",
    "    - Replace methods with method objects\n",
    "    - Substitute algorithm\n",
    "\n",
    "\n",
    "- **Moving features between objects**: techniques oriented to show how to safely move functionality between classes, create new classes, and hide implementation details from public access.\n",
    "    - Move method\n",
    "    - Move field\n",
    "    - Extract class\n",
    "    - Inline class\n",
    "    - Hide delegate\n",
    "    - Remove middle man\n",
    "    - Introduce foreign method\n",
    "    - Introduce local expression\n",
    "\n",
    "\n",
    "- **Organizing data**: techniques oriented to help with data handling, replacing primitives with rich class functionality, untangling of class associations, which makes classes more portable and reusable.\n",
    "    - Change value of reference\n",
    "    - Change reference to value\n",
    "    - Duplicate observed data\n",
    "    - Self encapsulate fields\n",
    "    - Replace data value with object\n",
    "    - Replace array with Object\n",
    "    - Change unidirectional association to bidirectional\n",
    "    - Change bidirectional association to unidirectional\n",
    "    - Encapsulate field\n",
    "    - Encapsulate Collection\n",
    "    - Replace magic number with symbolic constant\n",
    "    - Replace type code with class\n",
    "    - Replace type code with subclass\n",
    "    - Replace type code with state/strategy\n",
    "    - Replace subclass with fields\n",
    "\n",
    "\n",
    "- **Simplifying conditional expressions**: techniques are oriented to simplify the conditional expressions.\n",
    "    - Consolidate conditional expressions\n",
    "    - Consolidate duplicate conditional fragments\n",
    "    - Decompose conditional\n",
    "    - Replace conditional with polymorphism\n",
    "    - Remove control flag\n",
    "    - Replace nested conditional with guard clauses\n",
    "    - Introduce null object\n",
    "    - Introduce Assertion\n",
    "\n",
    "\n",
    "- **Simplifying method calls**: techniques oriented to make method calls simpler and easier to understand, by simplifying the interfaces for interaction between classes.\n",
    "    - Add parameter\n",
    "    - Remove parameter\n",
    "    - Rename methods-\n",
    "    - Separate query from modifier\n",
    "    - Parameterize method\n",
    "    - Introduce parameter Object\n",
    "    - Preserve whole object\n",
    "    - Remove setting methods\n",
    "    - Replace parameter with explicit methods\n",
    "    - Replace parameter with method call\n",
    "    - Hide methods\n",
    "    - Replace constructor with factory method\n",
    "    - Replace error code with exception\n",
    "    - Replace exception with test\n",
    "\n",
    "\n",
    "- **Dealing with generalization**: techniques primarily associated with moving functionality along the class inheritance hierarchy, creating new classes and interfaces, and replacing inheritance with delegation and vice versa.\n",
    "    - Pull up field\n",
    "    - Pull up method\n",
    "    - Pull up constructor body\n",
    "    - Push down field\n",
    "    - Push down method\n",
    "    - Extract subclass\n",
    "    - Extract superclass\n",
    "    - Extract interface\n",
    "    - Collapse hierarchy\n",
    "    - Form template method\n",
    "    - Replace inheritance with delegation\n",
    "    - Replace delegation with inheritance\n"
   ]
  },
  {
   "cell_type": "markdown",
   "metadata": {},
   "source": [
    "## Design Principles"
   ]
  },
  {
   "cell_type": "markdown",
   "metadata": {},
   "source": [
    "Symptoms of Rotting Design\n",
    "\n",
    "- **Rigidity**: is the tendency for software to be difficult to change, even in simple ways. Every change causes a cascade of subsequent changes in dependent modules. When software behaves this way, there is a fear to allow engineers to fix non-critical problems.\n",
    "\n",
    "\n",
    "- **Fragility**: closely related to rigidity, fragility is the tendency of the software to break in many places every time it is changed. Often the breakage occurs in areas that have no conceptual relationship with the area that was changed. As the fragility becomes worse, the probability of breakage increases with time. Such software is impossible to maintain. Every fix makes it worse, introducing more problems than are solved.\n",
    "\n",
    "- **Immobility**: is the inability to reuse software from other projects or parts of the same project. It often happens that a needed module is similar to one that another engineer wrote. However, the module in question has too much baggage that it depends upon, that it is simply better to rewrite the module instead of reuse it.\n",
    "\n",
    "\n",
    "- **Viscosity**: when a change is needed, engineers usually find more than one way to make the change. Some of the ways preserve the design, others do not (i.e. hacks). When the design preserving methods are harder to employ than the hacks, then the viscosity of the design is high. It is easy to do the wrong thing, but hard to do the right thing."
   ]
  },
  {
   "cell_type": "markdown",
   "metadata": {},
   "source": [
    "### Pillars of Object Oriented Programming\n",
    "\n",
    "An Object Oriented Programming model is a programming model which is mainly organized around the concept of objects. There are 4 fundamentals ideas or pillars that an Object Oriented Programming is based on:\n",
    "\n",
    "- **Abstraction**: is a process of exposing essential feature of an entity while hiding other irrelevant detail. Abstraction reduces code complexity by generalizing instead of dealing with specific examples.\n",
    "\n",
    "\n",
    "- **Encapsulation**: refers to the idea of taking our attributes and our behaviors together and bundling them together in the same unit, in the same class. Is when you hide your classes/modules internal data and all other implementation details/mechanism from other classes/modules. It is also a way of restricting access to certain properties or component. Encapsulation is not data hiding, but Encapsulation leads to data hiding. \n",
    "\n",
    "\n",
    "- **Inheritance**: is a first form of code reuse. We can create a new class but instead of writing it from scratch, we can base it on an existing class. The new created class (subclass/derived class) automatically has everything that the class we are based on (superclass/base class) has, all its attributes, all its behaviors without us having to write any code.\n",
    "\n",
    "\n",
    "- **Polymorphism**: refers to the ability to take into different forms or stages. A subclass can define its own unique behavior and still share the same functionalities or behavior of its base class. A base class cannot have the behavior of its subclass. Polymorphism is the ability of an object to change behavior on runtime."
   ]
  },
  {
   "cell_type": "markdown",
   "metadata": {},
   "source": [
    "### S.O.L.I.D.\n",
    "\n",
    "SOLID is a mnemonic acronym for five design principles intended to make software designs more understandable, flexible and maintainable. \n",
    "\n",
    "- **S**ingle responsibility principle ( _SRP_ )\n",
    "    - A class should have one and only one reason to change, meaning that a class should have only one job.\n",
    "\n",
    "\n",
    "- **O**pen-closed principle ( _OCP_ )\n",
    "    - A module should be open for extension but closed for modification.\n",
    "\n",
    "\n",
    "- **L**iskov substitution principle ( _LSP_ )\n",
    "    - Subclasses should be substitutable for their base classes.\n",
    "\n",
    "\n",
    "- **I**nterface segregation principle ( _ISP_ )\n",
    "    - Many client specific interfaces are better than one general purpose interface.\n",
    "\n",
    "\n",
    "- **D**ependency inversion principle ( _DIP_ )\n",
    "    - Abstractions should not depend upon details. Details should depend upon abstractions."
   ]
  },
  {
   "cell_type": "markdown",
   "metadata": {},
   "source": [
    "## Design Patterns"
   ]
  },
  {
   "cell_type": "markdown",
   "metadata": {},
   "source": [
    "A software design pattern is a general, reusable solution to a commonly occurring problem within a given context in software design.\n",
    "\n",
    "Design patterns are formalized best practices that the programmer can use to solve common problems when designing an application or system.\n",
    "\n",
    "- Design Patterns are defined and provides industry standard approach to solve a recurring problem. \n",
    "- Using design patterns promotes reusability that leads to more robust and highly maintainable code. \n",
    "- Helps to understand and debug the code. "
   ]
  },
  {
   "cell_type": "markdown",
   "metadata": {},
   "source": [
    "### Types of Design Patterns\n",
    "\n",
    "Java Design Patterns are divided into three categories: \n",
    "- **Creational**: is concerned with the way of creating objects. \n",
    "    - Factory Method Pattern\n",
    "    - Abstract Factory Pattern\n",
    "    - Singleton Pattern\n",
    "    - Prototype Pattern\n",
    "    - Builder Pattern\n",
    "    - Object Pool Pattern\n",
    "\n",
    "\n",
    "- **Structural**: is concerned with how classes and objects can be composed, to form larger structures.\n",
    "    - Adapter Pattern\n",
    "    - Bridge Pattern\n",
    "    - Composite Pattern\n",
    "    - Decorator Pattern\n",
    "    - Facade Pattern\n",
    "    - Flyweight Pattern\n",
    "    - Proxy Pattern\n",
    "\n",
    "\n",
    "- **Behavioral**: is concerned with the interaction and responsibility of objects.\n",
    "    - Chain of Responsibility Pattern\n",
    "    - Command Pattern\n",
    "    - Interpreter Pattern\n",
    "    - Iterator Pattern\n",
    "    - Mediator Pattern\n",
    "    - Memento Pattern\n",
    "    - Observer Pattern\n",
    "    - State Pattern\n",
    "    - Strategy Pattern\n",
    "    - Template Pattern\n",
    "    - Visitor Pattern\n",
    "    - Null Object\n",
    "\n",
    "\n",
    "- **Miscellaneous Design Patterns**:  popular design patterns.\n",
    "    - Data Access Object Design Pattern\n",
    "    - Dependency Injection Pattern\n",
    "    - Model-View-Controller Pattern\n",
    "    - Model-View-Presenter Pattern\n",
    "    - Business Delegate Pattern\n",
    "    - Front Controller Pattern\n"
   ]
  }
 ],
 "metadata": {
  "kernelspec": {
   "display_name": "Java11",
   "language": "java",
   "name": "java"
  },
  "language_info": {
   "codemirror_mode": "text/x-java",
   "file_extension": ".java",
   "mimetype": "",
   "name": "Java",
   "nbconverter_exporter": "",
   "version": "14.0.2"
  },
  "toc": {
   "base_numbering": 1,
   "nav_menu": {},
   "number_sections": true,
   "sideBar": true,
   "skip_h1_title": true,
   "title_cell": "Table of Contents",
   "title_sidebar": "Contents",
   "toc_cell": false,
   "toc_position": {
    "height": "calc(100% - 180px)",
    "left": "10px",
    "top": "150px",
    "width": "214.667px"
   },
   "toc_section_display": true,
   "toc_window_display": false
  }
 },
 "nbformat": 4,
 "nbformat_minor": 2
}
