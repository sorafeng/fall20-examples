{
 "cells": [
  {
   "cell_type": "markdown",
   "metadata": {},
   "source": [
    "# ECE 325 - Exam 1 Review (Fall20)"
   ]
  },
  {
   "cell_type": "markdown",
   "metadata": {},
   "source": [
    "## Primitive Types"
   ]
  },
  {
   "cell_type": "code",
   "execution_count": 1,
   "metadata": {},
   "outputs": [
    {
     "name": "stdout",
     "output_type": "stream",
     "text": [
      "int:5, double:7.0, long:4, float:3.0\n"
     ]
    },
    {
     "data": {
      "text/plain": [
       "null"
      ]
     },
     "execution_count": 1,
     "metadata": {},
     "output_type": "execute_result"
    }
   ],
   "source": [
    "int x = 5;\n",
    "double y = 7.0;\n",
    "long z = 4L;\n",
    "float w = 3f;\n",
    "\n",
    "System.out.println(\"int:\"+x +\", double:\"+ y+\", long:\"+z+\", float:\"+w);"
   ]
  },
  {
   "cell_type": "markdown",
   "metadata": {},
   "source": [
    "## Autoboxing"
   ]
  },
  {
   "cell_type": "code",
   "execution_count": 2,
   "metadata": {},
   "outputs": [
    {
     "name": "stdout",
     "output_type": "stream",
     "text": [
      "Integer:5, Double:7.0, Long:4, Float:3.0\n",
      "\n"
     ]
    },
    {
     "data": {
      "text/plain": [
       "null"
      ]
     },
     "execution_count": 2,
     "metadata": {},
     "output_type": "execute_result"
    }
   ],
   "source": [
    "int x = 5;\n",
    "double y = 7;\n",
    "long z = 4L;\n",
    "float w = 3f;\n",
    "\n",
    "Integer i_obj = x;\n",
    "Double d_obj = y;\n",
    "Long l_obj = z;\n",
    "Float f_obj = w;\n",
    "\n",
    "System.out.println(\"Integer:\"+i_obj +\", Double:\"+ d_obj+\", Long:\"+l_obj+\", Float:\"+f_obj+\"\\n\");"
   ]
  },
  {
   "cell_type": "code",
   "execution_count": 3,
   "metadata": {},
   "outputs": [
    {
     "ename": "Double d = i_obj;",
     "evalue": "Double d = i_obj;",
     "output_type": "error",
     "traceback": [
      "\u001b[1;31mDouble d = i_obj;\u001b[0;0m",
      "\u001b[1;31mincompatible types: java.lang.Integer cannot be converted to java.lang.Double\u001b[0;0m"
     ]
    }
   ],
   "source": [
    "Double d = i_obj;"
   ]
  },
  {
   "cell_type": "code",
   "execution_count": 4,
   "metadata": {},
   "outputs": [
    {
     "name": "stdout",
     "output_type": "stream",
     "text": [
      "d:5.0\n",
      "\n",
      "f:5.0\n",
      "\n"
     ]
    },
    {
     "data": {
      "text/plain": [
       "null"
      ]
     },
     "execution_count": 4,
     "metadata": {},
     "output_type": "execute_result"
    }
   ],
   "source": [
    "Double d = i_obj.doubleValue();\n",
    "Float f = i_obj.floatValue();\n",
    "System.out.println(\"d:\" + d+\"\\n\");\n",
    "System.out.println(\"f:\" + f+\"\\n\");"
   ]
  },
  {
   "cell_type": "markdown",
   "metadata": {},
   "source": [
    "`Number` is an abstract class (https://docs.oracle.com/en/java/javase/11/docs/api/java.base/java/lang/Number.html)"
   ]
  },
  {
   "cell_type": "code",
   "execution_count": 5,
   "metadata": {},
   "outputs": [
    {
     "name": "stdout",
     "output_type": "stream",
     "text": [
      "num:4\n",
      "\n"
     ]
    },
    {
     "data": {
      "text/plain": [
       "null"
      ]
     },
     "execution_count": 5,
     "metadata": {},
     "output_type": "execute_result"
    }
   ],
   "source": [
    "Number num = l_obj;\n",
    "System.out.println(\"num:\" + num+\"\\n\");"
   ]
  },
  {
   "cell_type": "code",
   "execution_count": 6,
   "metadata": {},
   "outputs": [
    {
     "name": "stdout",
     "output_type": "stream",
     "text": [
      "Class of i_obj: class java.lang.Integer\n",
      "Class of num: class java.lang.Long\n",
      "i_obj instance of Number: true\n",
      "\n"
     ]
    },
    {
     "data": {
      "text/plain": [
       "null"
      ]
     },
     "execution_count": 6,
     "metadata": {},
     "output_type": "execute_result"
    }
   ],
   "source": [
    "System.out.println(\"Class of i_obj: \" + i_obj.getClass());\n",
    "System.out.println(\"Class of num: \" + num.getClass());\n",
    "System.out.println(\"i_obj instance of Number: \" + (i_obj instanceof Number)+\"\\n\");"
   ]
  },
  {
   "cell_type": "code",
   "execution_count": 7,
   "metadata": {},
   "outputs": [
    {
     "name": "stdout",
     "output_type": "stream",
     "text": [
      "bool:true\n"
     ]
    },
    {
     "data": {
      "text/plain": [
       "null"
      ]
     },
     "execution_count": 7,
     "metadata": {},
     "output_type": "execute_result"
    }
   ],
   "source": [
    "Boolean bool = f_obj.intValue() > 0;\n",
    "System.out.println(\"bool:\" + bool);"
   ]
  },
  {
   "cell_type": "markdown",
   "metadata": {},
   "source": [
    "## Strings"
   ]
  },
  {
   "cell_type": "code",
   "execution_count": 8,
   "metadata": {},
   "outputs": [
    {
     "name": "stdout",
     "output_type": "stream",
     "text": [
      "str:Hello, World! length:13\n",
      "Character at 7th position:W\n"
     ]
    },
    {
     "data": {
      "text/plain": [
       "null"
      ]
     },
     "execution_count": 8,
     "metadata": {},
     "output_type": "execute_result"
    }
   ],
   "source": [
    "String str = \"Hello, World!\";\n",
    "\n",
    "System.out.println(\"str:\"+ str +\" length:\"+ str.length());\n",
    "\n",
    "Character ch = str.charAt(7);\n",
    "\n",
    "System.out.println(\"Character at 7th position:\" + ch);"
   ]
  },
  {
   "cell_type": "code",
   "execution_count": 9,
   "metadata": {},
   "outputs": [
    {
     "name": "stdout",
     "output_type": "stream",
     "text": [
      "H\n",
      " e\n",
      "  l\n",
      "   l\n",
      "    o\n",
      "     ,\n",
      "       \n",
      "       W\n",
      "        o\n",
      "         r\n",
      "          l\n",
      "           d\n",
      "            !\n"
     ]
    },
    {
     "data": {
      "text/plain": [
       "null"
      ]
     },
     "execution_count": 9,
     "metadata": {},
     "output_type": "execute_result"
    }
   ],
   "source": [
    "String str = \"Hello, World!\";\n",
    "\n",
    "char[] letters = str.toCharArray();\n",
    "\n",
    "String spc = \"\";\n",
    "for(char c : letters) {\n",
    "    System.out.println(spc+c);\n",
    "    spc += \" \";\n",
    "}"
   ]
  },
  {
   "cell_type": "code",
   "execution_count": 10,
   "metadata": {},
   "outputs": [
    {
     "name": "stdout",
     "output_type": "stream",
     "text": [
      "hello world\n",
      "hello world\n",
      "\n",
      "str == strHW: false\n",
      "\n",
      "str equals strHW: true\n",
      "\n",
      "str.hashCode: 1794106052\n",
      "\n",
      "strHW.hashCode: 1794106052\n"
     ]
    },
    {
     "data": {
      "text/plain": [
       "null"
      ]
     },
     "execution_count": 10,
     "metadata": {},
     "output_type": "execute_result"
    }
   ],
   "source": [
    "String str = \"hello world\";\n",
    "String hello = \"HELLO\";\n",
    "String world = \"world\";\n",
    "\n",
    "String strHW = hello.toLowerCase() + \" \" + world;\n",
    "\n",
    "System.out.println(str);\n",
    "System.out.println(strHW);\n",
    "\n",
    "System.out.println(\"\\nstr == strHW: \"+ (str == strHW));\n",
    "\n",
    "System.out.println(\"\\nstr equals strHW: \"+ (str.equals(strHW)));\n",
    "\n",
    "System.out.println(\"\\nstr.hashCode: \" + str.hashCode());\n",
    "System.out.println(\"\\nstrHW.hashCode: \" + strHW.hashCode());"
   ]
  },
  {
   "cell_type": "markdown",
   "metadata": {},
   "source": [
    "## Regular Expressions"
   ]
  },
  {
   "cell_type": "markdown",
   "metadata": {},
   "source": [
    "A Regular Expression (or *regex*) is a text string for describing a __search pattern__ that can be applied to a text.\n",
    "\n",
    "(Good online reference: https://regex101.com/)"
   ]
  },
  {
   "cell_type": "code",
   "execution_count": 11,
   "metadata": {},
   "outputs": [
    {
     "data": {
      "text/plain": [
       "null"
      ]
     },
     "execution_count": 11,
     "metadata": {},
     "output_type": "execute_result"
    }
   ],
   "source": [
    "import java.util.regex.*;\n",
    "    \n",
    "public class RegexTest {\n",
    "    public static void test(String text, String pattern) {\n",
    "        Pattern p = Pattern.compile(pattern);\n",
    "        Matcher m = p.matcher(text);\n",
    "        int k = 1;\n",
    "        while (m.find()) {\n",
    "            System.out.println(k++ +\": \"+text.substring(m.start(), m.end()));\n",
    "            for (int i=1; i <= m.groupCount(); ++i)\n",
    "                System.out.println(\"group \"+i+\": \"+m.group(i));\n",
    "        }\n",
    "    }\n",
    "}"
   ]
  },
  {
   "cell_type": "code",
   "execution_count": 12,
   "metadata": {},
   "outputs": [
    {
     "name": "stdout",
     "output_type": "stream",
     "text": [
      "1: ow\n",
      "2: is\n",
      "3: the\n",
      "4: time\n"
     ]
    },
    {
     "data": {
      "text/plain": [
       "null"
      ]
     },
     "execution_count": 12,
     "metadata": {},
     "output_type": "execute_result"
    }
   ],
   "source": [
    "RegexTest.test(\"Now is the time\", \"[a-z]+\");"
   ]
  },
  {
   "cell_type": "code",
   "execution_count": 13,
   "metadata": {},
   "outputs": [
    {
     "name": "stdout",
     "output_type": "stream",
     "text": [
      "1: -0.2361E5\n",
      "2: 0.123E-23\n",
      "3: 0.1e233\n"
     ]
    },
    {
     "data": {
      "text/plain": [
       "null"
      ]
     },
     "execution_count": 13,
     "metadata": {},
     "output_type": "execute_result"
    }
   ],
   "source": [
    "RegexTest.test(\"-0.2361E5 4.34 0.123E-23 +0.1e233\", \"-?0.[0-9]+[eE]-?[0-9]+\");"
   ]
  },
  {
   "cell_type": "code",
   "execution_count": 14,
   "metadata": {},
   "outputs": [
    {
     "name": "stdout",
     "output_type": "stream",
     "text": [
      "1: -0.2361E5\n",
      "2: 0.123E-23\n",
      "3: 0.1e233\n"
     ]
    },
    {
     "data": {
      "text/plain": [
       "null"
      ]
     },
     "execution_count": 14,
     "metadata": {},
     "output_type": "execute_result"
    }
   ],
   "source": [
    "RegexTest.test(\"-0.2361E5 4.34 0.123E-23 +0.1e233\",\"-?0.\\\\d+[eE]-?\\\\d+\");"
   ]
  },
  {
   "cell_type": "markdown",
   "metadata": {},
   "source": [
    "In Java, the character `\\` needs to be escaped `\\\\`, for example:\n",
    "\n",
    "- regex: `\"t\\d+\"` -> matches `t0`, `t532`\n",
    "- Java: `\"t\\\\d+\"`"
   ]
  },
  {
   "cell_type": "code",
   "execution_count": 15,
   "metadata": {},
   "outputs": [
    {
     "name": "stdout",
     "output_type": "stream",
     "text": [
      "<html><body><h1>Hello</h1><a href=\"http:\\\\acme.net\">Link to acme corp</a></body></html>\n",
      "\n",
      "1: <a href=\"http:\\\\acme.net\">\n",
      "group 1: http:\\\\acme.net\n",
      "1: <h1>Hello</h1>\n",
      "group 1: Hello\n",
      "2: <a href=\"http:\\\\acme.net\">Link to acme corp</a>\n",
      "group 1: Link to acme corp\n",
      "3: </body></html>\n",
      "group 1: \n"
     ]
    },
    {
     "data": {
      "text/plain": [
       "null"
      ]
     },
     "execution_count": 15,
     "metadata": {},
     "output_type": "execute_result"
    }
   ],
   "source": [
    "String html = \n",
    "    \"<html>\" +\n",
    "    \"<body>\" +\n",
    "    \"<h1>Hello</h1>\" +\n",
    "    \"<a href=\\\"http:\\\\\\\\acme.net\\\">Link to acme corp</a>\" +\n",
    "    \"</body>\" +\n",
    "    \"</html>\\n\";\n",
    "\n",
    "System.out.println(html);\n",
    "\n",
    "// Extract the link's URL from a HTML page \n",
    "RegexTest.test(html, \"<a href=\\\"([^\\\"]*)\\\">\");\n",
    "\n",
    "// Extract the text encapsulated for a tag\n",
    "RegexTest.test(html, \"<[^>]+>([^<]*)</[^>]+>\");"
   ]
  },
  {
   "cell_type": "markdown",
   "metadata": {},
   "source": [
    "## Classes and Objects"
   ]
  },
  {
   "cell_type": "markdown",
   "metadata": {},
   "source": [
    "A __Class__ is composed of two components:\n",
    "\n",
    "- the *state* (attributes, data members, data fields)\n",
    "- the *behaviour* (methods)\n",
    "\n",
    "A class is a *template* for some useful entity defined by its state and behaviour."
   ]
  },
  {
   "cell_type": "markdown",
   "metadata": {},
   "source": [
    "![](http://www.plantuml.com/plantuml/png/9Sx12i8m30RWUvuYnyaiUEvfAXuyxmcoDeooDXrj9gZuxfRjcEJ_VZ9KfQ9RYb2N82iLIkWYrNfLBM7Qb9ykonW-Z1VO3tYdWbymGeajZYqbCu99sNEq64J1x9tiBKuvHoO1y-AONT2tHP-tAJBqhQKxyBcP4_GxUiWSXBisadCSkP1oTv2sMmlNUYjCIqlyO63nxVC_)"
   ]
  },
  {
   "cell_type": "code",
   "execution_count": 16,
   "metadata": {},
   "outputs": [
    {
     "data": {
      "text/plain": [
       "null"
      ]
     },
     "execution_count": 16,
     "metadata": {},
     "output_type": "execute_result"
    }
   ],
   "source": [
    "public class Car\n",
    "{\n",
    "    private String name;\n",
    "    private int model;\n",
    "    private boolean started;\n",
    "    private double velocity;\n",
    "    \n",
    "    public Car(String name, int model) {\n",
    "        this.name = name;\n",
    "        this.model = model;\n",
    "        started = false;\n",
    "        velocity = 0;\n",
    "    }\n",
    "    \n",
    "    public void startEngine() {\n",
    "        started = true;\n",
    "    }\n",
    "    \n",
    "    public void accelerate(double v) {\n",
    "        if (started)\n",
    "            this.velocity +=v;\n",
    "    }\n",
    "    \n",
    "    public void pressBreak() {\n",
    "        this.velocity = 0;\n",
    "    }\n",
    "    \n",
    "    public double getVelocity() {\n",
    "        return velocity;\n",
    "    }\n",
    "}"
   ]
  },
  {
   "cell_type": "code",
   "execution_count": 17,
   "metadata": {},
   "outputs": [
    {
     "name": "stdout",
     "output_type": "stream",
     "text": [
      "car1: REPL.$JShell$90$Car@564402c5\n",
      "car2: REPL.$JShell$90$Car@4c37ccb4\n"
     ]
    },
    {
     "data": {
      "text/plain": [
       "null"
      ]
     },
     "execution_count": 17,
     "metadata": {},
     "output_type": "execute_result"
    }
   ],
   "source": [
    "Car car1 = new Car(\"Ford\",1989);\n",
    "Car car2 = new Car(\"Kia\",2015);\n",
    "\n",
    "System.out.println(\"car1: \" + car1);\n",
    "System.out.println(\"car2: \" + car2);"
   ]
  },
  {
   "cell_type": "code",
   "execution_count": 18,
   "metadata": {},
   "outputs": [
    {
     "name": "stdout",
     "output_type": "stream",
     "text": [
      "car3: REPL.$JShell$90$Car@564402c5\n",
      "\n",
      "car1 == car3: true\n"
     ]
    },
    {
     "data": {
      "text/plain": [
       "null"
      ]
     },
     "execution_count": 18,
     "metadata": {},
     "output_type": "execute_result"
    }
   ],
   "source": [
    "Car car3 = car1;\n",
    "car1.startEngine();\n",
    "\n",
    "System.out.println(\"car3: \" + car3);\n",
    "\n",
    "System.out.println(\"\\ncar1 == car3: \" + (car1==car3));"
   ]
  },
  {
   "cell_type": "code",
   "execution_count": 19,
   "metadata": {},
   "outputs": [
    {
     "name": "stdout",
     "output_type": "stream",
     "text": [
      "\n",
      "car1 == car3: false\n",
      "\n",
      "car1 equals car3: false\n"
     ]
    },
    {
     "data": {
      "text/plain": [
       "null"
      ]
     },
     "execution_count": 19,
     "metadata": {},
     "output_type": "execute_result"
    }
   ],
   "source": [
    "car3 = new Car(\"Ford\",1989);\n",
    "System.out.println(\"\\ncar1 == car3: \" + (car1==car3));\n",
    "System.out.println(\"\\ncar1 equals car3: \" + (car1.equals(car3)));"
   ]
  },
  {
   "cell_type": "markdown",
   "metadata": {},
   "source": [
    "### Overloading\n",
    "\n",
    "Method Overloading allows a class to have more than one method having the *same name*, if their argument lists are *different*.\n",
    "\n",
    "Consider *Widening conversion* and *Narrowing conversion*"
   ]
  },
  {
   "cell_type": "code",
   "execution_count": 20,
   "metadata": {},
   "outputs": [
    {
     "data": {
      "text/plain": [
       "null"
      ]
     },
     "execution_count": 20,
     "metadata": {},
     "output_type": "execute_result"
    }
   ],
   "source": [
    "class Operations    \n",
    "{\n",
    "    private static final double Pi = 3.141592;\n",
    "    \n",
    "    public static double sum(double a, double b) {\n",
    "        System.out.println(\"sum 2 double called\");\n",
    "        return a + b;\n",
    "    }\n",
    "\n",
    "    public static double sum(double a, double b, double c) {\n",
    "        System.out.println(\"sum 3 double called\");\n",
    "        return a + sum(b,c);\n",
    "    }\n",
    "\n",
    "    public static int sum(int a, int b) {\n",
    "        System.out.println(\"sum 2 int called\");\n",
    "        return a + b;\n",
    "    }\n",
    "\n",
    "    public static int sum(int a, int b, int c) {\n",
    "        System.out.println(\"sum 3 int called\");\n",
    "        return a + sum(b,c);\n",
    "    }\n",
    "}"
   ]
  },
  {
   "cell_type": "code",
   "execution_count": 21,
   "metadata": {},
   "outputs": [
    {
     "name": "stdout",
     "output_type": "stream",
     "text": [
      "sum 2 int called\n",
      "sum(1, 2): 3\n"
     ]
    },
    {
     "data": {
      "text/plain": [
       "null"
      ]
     },
     "execution_count": 21,
     "metadata": {},
     "output_type": "execute_result"
    }
   ],
   "source": [
    "System.out.println(\"sum(1, 2): \" + Operations.sum(1, 2));"
   ]
  },
  {
   "cell_type": "code",
   "execution_count": 22,
   "metadata": {},
   "outputs": [
    {
     "name": "stdout",
     "output_type": "stream",
     "text": [
      "sum 2 double called\n",
      "sum(1, 2.0): 3.0\n"
     ]
    },
    {
     "data": {
      "text/plain": [
       "null"
      ]
     },
     "execution_count": 22,
     "metadata": {},
     "output_type": "execute_result"
    }
   ],
   "source": [
    "System.out.println(\"sum(1, 2.0): \" + Operations.sum(1, 2.0));"
   ]
  },
  {
   "cell_type": "code",
   "execution_count": 23,
   "metadata": {},
   "outputs": [
    {
     "name": "stdout",
     "output_type": "stream",
     "text": [
      "sum 3 int called\n",
      "sum 2 int called\n",
      "sum(1, 2, 5): 8\n"
     ]
    },
    {
     "data": {
      "text/plain": [
       "null"
      ]
     },
     "execution_count": 23,
     "metadata": {},
     "output_type": "execute_result"
    }
   ],
   "source": [
    "System.out.println(\"sum(1, 2, 5): \" + Operations.sum(1, 2, 5));"
   ]
  },
  {
   "cell_type": "code",
   "execution_count": 24,
   "metadata": {},
   "outputs": [
    {
     "name": "stdout",
     "output_type": "stream",
     "text": [
      "sum 3 double called\n",
      "sum 2 double called\n",
      "sum(1, 2.0, 5): 8.0\n"
     ]
    },
    {
     "data": {
      "text/plain": [
       "null"
      ]
     },
     "execution_count": 24,
     "metadata": {},
     "output_type": "execute_result"
    }
   ],
   "source": [
    "System.out.println(\"sum(1, 2.0, 5): \" + Operations.sum(1, 2.0, 5));"
   ]
  },
  {
   "cell_type": "markdown",
   "metadata": {},
   "source": [
    "## Packages"
   ]
  },
  {
   "cell_type": "code",
   "execution_count": null,
   "metadata": {},
   "outputs": [],
   "source": [
    "package mypkg;\n",
    "\n",
    "public class A {\n",
    "    public String toString() {\n",
    "        return \"Class A\";\n",
    "    }\n",
    "}"
   ]
  },
  {
   "cell_type": "code",
   "execution_count": null,
   "metadata": {},
   "outputs": [],
   "source": [
    "package mypkg;\n",
    "\n",
    "public class B {\n",
    "    public String toString() {\n",
    "        return \"Class B\";\n",
    "    }\n",
    "}"
   ]
  },
  {
   "cell_type": "markdown",
   "metadata": {},
   "source": [
    "The package name is part of the class name"
   ]
  },
  {
   "cell_type": "code",
   "execution_count": null,
   "metadata": {},
   "outputs": [],
   "source": [
    "mypkg.A a = new mypkg.A();\n",
    "\n",
    "System.out.println(a);"
   ]
  },
  {
   "cell_type": "code",
   "execution_count": null,
   "metadata": {},
   "outputs": [],
   "source": [
    "import mypkg.*;\n",
    "\n",
    "A b = new A();\n",
    "\n",
    "System.out.println(b);"
   ]
  },
  {
   "cell_type": "markdown",
   "metadata": {},
   "source": [
    "## Inheritance"
   ]
  },
  {
   "cell_type": "markdown",
   "metadata": {},
   "source": [
    "- Abstract entities serve as base definitions onto which we can build more concrete entities. \n",
    "\n",
    "- The higher-level entities are *parent*, *base* or *super* classes/types.\n",
    "\n",
    "- The lower-level entities built from high-level entities are *child*, *derived* or *sub* classes/types.\n",
    "\n",
    "Inheritance is known as **is-a** relationship between child and parent class.\n",
    "\n",
    "Inheritance is a process of defining a new class based on an existing class by extending its common data members (state) and methods (behaviour)."
   ]
  },
  {
   "cell_type": "markdown",
   "metadata": {},
   "source": [
    "![](http://www.plantuml.com/plantuml/png/TOwxJi0m34LtVuKbbbOb4dF5K90O663f5xYjLKKaJfKuGtdyE-eZ1GRMUtryRfUKecRl8BrPMIYInz5HIW-gqGvP-NaCqjjtnZk09x-ui3BZ_QSn1bz8QEO8i1DujHzWxDIY5GKZvBd5NgEL6U4caQEujZY5F3W6Q0fK7IUtHr53CxE-akUgBlGUzJk_XUU79brXGR-WB3e7ReE683dzK6Vprrha_viUjo-_H1tBbBtx1W00)"
   ]
  },
  {
   "cell_type": "code",
   "execution_count": 29,
   "metadata": {},
   "outputs": [
    {
     "data": {
      "text/plain": [
       "null"
      ]
     },
     "execution_count": 29,
     "metadata": {},
     "output_type": "execute_result"
    }
   ],
   "source": [
    "class Employee\n",
    "{\n",
    "    private static int sequence = 0;\n",
    "    private final int id;\n",
    "    private final String name;\n",
    "    protected double salary;\n",
    "    \n",
    "    public Employee(String name, double salary) {\n",
    "        this.id = ++sequence;\n",
    "        this.name = name;\n",
    "        this.salary = salary;\n",
    "    }\n",
    "    \n",
    "    public String getName() { return name; }\n",
    "\n",
    "    public double getSalary() { return salary; }\n",
    "    \n",
    "    public void setSalary(double newSalary) { this.salary = newSalary; }    \n",
    "}"
   ]
  },
  {
   "cell_type": "code",
   "execution_count": 30,
   "metadata": {},
   "outputs": [
    {
     "data": {
      "text/plain": [
       "null"
      ]
     },
     "execution_count": 30,
     "metadata": {},
     "output_type": "execute_result"
    }
   ],
   "source": [
    "class Manager extends Employee\n",
    "{\n",
    "    private double bonus;\n",
    "    \n",
    "    public Manager(String name, double salary, double bonus) {\n",
    "        super(name, salary);\n",
    "        this.bonus = bonus;\n",
    "    }\n",
    "    \n",
    "    public double getSalary() {\n",
    "        return super.getSalary() + bonus;\n",
    "    }\n",
    "    \n",
    "    public void setBonus(double bonus) { this.bonus = bonus; }\n",
    "}"
   ]
  },
  {
   "cell_type": "markdown",
   "metadata": {},
   "source": [
    "### Polymorphism and Dynamic binding"
   ]
  },
  {
   "cell_type": "code",
   "execution_count": 31,
   "metadata": {},
   "outputs": [
    {
     "name": "stdout",
     "output_type": "stream",
     "text": [
      "John Smith 52000.0\n",
      "John Smith 52000.0\n",
      "John Smith 52000.0\n"
     ]
    },
    {
     "data": {
      "text/plain": [
       "null"
      ]
     },
     "execution_count": 31,
     "metadata": {},
     "output_type": "execute_result"
    }
   ],
   "source": [
    "Manager mng = new Manager(\"John Smith\", 50000, 2000);\n",
    "\n",
    "System.out.println(mng.getName() +\" \"+mng.getSalary());\n",
    "\n",
    "Employee emp = mng;\n",
    "\n",
    "System.out.println(emp.getName() +\" \"+emp.getSalary());\n",
    "\n",
    "Manager mng2 = (Manager) emp;\n",
    "\n",
    "System.out.println(mng2.getName() +\" \"+mng2.getSalary());\n",
    "\n"
   ]
  },
  {
   "cell_type": "code",
   "execution_count": 32,
   "metadata": {},
   "outputs": [
    {
     "name": "stdout",
     "output_type": "stream",
     "text": [
      "Scott Tiger 30000.0\n"
     ]
    },
    {
     "ename": "",
     "evalue": "",
     "output_type": "error",
     "traceback": [
      "\u001b[1;31m\u001b[0;0m",
      "\u001b[1;31m\u001b[0;0m",
      "\u001b[1;31mManager mng = emp;\u001b[0;0m",
      "\u001b[1;31mincompatible types: Employee cannot be converted to Manager\u001b[0;0m"
     ]
    }
   ],
   "source": [
    "Employee emp = new Employee(\"Scott Tiger\", 30000);\n",
    "\n",
    "System.out.println(emp.getName() +\" \" +emp.getSalary());\n",
    "\n",
    "Manager mng = emp;\n",
    "\n",
    "Manager mng = (Manager) emp;\n",
    "\n",
    "System.out.println(mng.getName() +\" \"+mng.getSalary());"
   ]
  },
  {
   "cell_type": "markdown",
   "metadata": {},
   "source": [
    "**polymorphism** is the ability by which, we can create functions or reference variables which behaves differently in different programmatic context.\n",
    "\n",
    "- Static Polymorphism\n",
    "- Dynamic Polymorphism"
   ]
  },
  {
   "cell_type": "markdown",
   "metadata": {},
   "source": [
    "### Types of inheritance"
   ]
  },
  {
   "cell_type": "markdown",
   "metadata": {},
   "source": [
    "#### Single Inheritance\n",
    "![](http://www.plantuml.com/plantuml/png/SoWkIImgAStDuN9AB4vLiAdHrTLLS4ajoYnBJU5oICrB0Ke10000) "
   ]
  },
  {
   "cell_type": "markdown",
   "metadata": {},
   "source": [
    "#### Hierarchical Inheritance\n",
    "![](http://www.plantuml.com/plantuml/png/SoWkIImgAStDuN9AB4vLiAdHrTLLS4ajoYnBJN748kR4vP2Qbm9K3m00) "
   ]
  },
  {
   "cell_type": "markdown",
   "metadata": {},
   "source": [
    "#### Multi-level Inheritance\n",
    "![](http://www.plantuml.com/plantuml/png/SoWkIImgAStDuN9AB4vLiAdHrTLLS4ajoYnBJN7aWZ5GnPsu75BpKe1w0000)"
   ]
  },
  {
   "cell_type": "markdown",
   "metadata": {},
   "source": [
    "#### Multiple Inheritance\n",
    "(Not supported for Java using only classes)\n",
    "![](http://www.plantuml.com/plantuml/png/SoWkIImgAStDuN9AB4vrLB2fqTNLLN19BSeiIqq1YpcXYJcavgK0rGC0)"
   ]
  },
  {
   "cell_type": "markdown",
   "metadata": {},
   "source": [
    "### Abstract Classes"
   ]
  },
  {
   "cell_type": "markdown",
   "metadata": {},
   "source": [
    "- An **Abstract Class** is a generic class used as a basis for creating specific objects that conform to its *protocol*, or the set of operations it supports. \n",
    "- Abstract classes are **not instantiated directly**, but they can be subclassed.\n",
    "- Abstract classes are useful when creating hierarchies of classes that model reality because they make it possible to specify an invariant level of functionality in some methods, but leave the implementation of other methods until a specific implementation of that class (a derived class) is needed.\n"
   ]
  },
  {
   "cell_type": "code",
   "execution_count": 33,
   "metadata": {},
   "outputs": [
    {
     "data": {
      "text/plain": [
       "null"
      ]
     },
     "execution_count": 33,
     "metadata": {},
     "output_type": "execute_result"
    }
   ],
   "source": [
    "abstract class Shape {\n",
    "  private String name;\n",
    "  private String color;\n",
    "\n",
    "  public Shape(String name, String color) {\n",
    "    this.name = name;\n",
    "    this.color = color;\n",
    "  }\n",
    "\n",
    "  public String getName() { return name; }\n",
    "  public String getColor() { return color; }\n",
    "  public void setColor(String color) { this.color = color; }\n",
    "\n",
    "  public String toString() { return name+\" (\"+color+\")\"; }\n",
    "    \n",
    "  public abstract double area();\n",
    "  public abstract double perimeter();\n",
    "  public abstract double[] dimensions();\n",
    "}"
   ]
  },
  {
   "cell_type": "code",
   "execution_count": 34,
   "metadata": {},
   "outputs": [
    {
     "ename": "Shape fig = new Shape(\"Figura\",\"Red\");",
     "evalue": "Shape fig = new Shape(\"Figura\",\"Red\");",
     "output_type": "error",
     "traceback": [
      "\u001b[1;31mShape fig = new Shape(\"Figura\",\"Red\");\u001b[0;0m",
      "\u001b[1;31mShape is abstract; cannot be instantiated\u001b[0;0m"
     ]
    }
   ],
   "source": [
    "Shape fig = new Shape(\"Figura\",\"Red\");"
   ]
  },
  {
   "cell_type": "markdown",
   "metadata": {},
   "source": [
    "- An abstract method is a method that:\n",
    "    - Cannot be specified in the current class.  \n",
    "    - Must be implemented in non-abstract subclasses.\n",
    "\n",
    "- An abstract class is a class that may contain one or more abstract methods"
   ]
  },
  {
   "cell_type": "code",
   "execution_count": 35,
   "metadata": {},
   "outputs": [
    {
     "data": {
      "text/plain": [
       "null"
      ]
     },
     "execution_count": 35,
     "metadata": {},
     "output_type": "execute_result"
    }
   ],
   "source": [
    "class Rectangle extends Shape\n",
    "{\n",
    "  private double height;\n",
    "  private double width;\n",
    "\n",
    "  public Rectangle(String name, double h, double w)\n",
    "  {\n",
    "    super(name, \"Blue\");\n",
    "    height = h;\n",
    "    width = w;\n",
    "  }\n",
    "\n",
    "  public double area() { return height*width; }\n",
    "\n",
    "  public double perimeter() { return 2*height + 2*width; }\n",
    "\n",
    "  public double[] dimensions() { \n",
    "    double[] dim = { height, width };\n",
    "    return dim; \n",
    "  }\n",
    "}\n",
    "\n",
    "class Square extends Rectangle\n",
    "{\n",
    "  public Square(String name, double side)\n",
    "  {\n",
    "    super(name, side, side);\n",
    "    setColor(\"Purple\");\n",
    "  }\n",
    "}\n"
   ]
  },
  {
   "cell_type": "code",
   "execution_count": 36,
   "metadata": {},
   "outputs": [
    {
     "name": "stdout",
     "output_type": "stream",
     "text": [
      "fig1.class: class REPL.$JShell$122$Rectangle\n",
      "fig2.class: class REPL.$JShell$123$Square\n"
     ]
    },
    {
     "ename": "",
     "evalue": "",
     "output_type": "error",
     "traceback": [
      "\u001b[1;31m\u001b[0;0m",
      "\u001b[1;31m\u001b[0;0m",
      "\u001b[1;31mRectangle rect = fig2;\u001b[0;0m",
      "\u001b[1;31mincompatible types: Shape cannot be converted to Rectangle\u001b[0;0m"
     ]
    }
   ],
   "source": [
    "Shape fig1 = new Rectangle(\"Rectangle\", 10, 13);\n",
    "Shape fig2 = new Square(\"Square\", 8);\n",
    "\n",
    "System.out.println(\"fig1.class: \"+fig1.getClass());\n",
    "System.out.println(\"fig2.class: \"+fig2.getClass());\n",
    "\n",
    "Rectangle rect = fig2; //Shape cannot be converted to Rectangle\n",
    "\n",
    "Rectangle rect = (Square)fig2;\n",
    "System.out.println(\"rect: \"+rect);\n"
   ]
  },
  {
   "cell_type": "markdown",
   "metadata": {},
   "source": [
    "## Interfaces"
   ]
  },
  {
   "cell_type": "markdown",
   "metadata": {},
   "source": [
    "- **Interface** is the mechanism that Java uses to deal with *multiple inheritance*.\n",
    "\n",
    "- Interfaces are a way to describe what classes should do without specifying how they should do it. \n",
    "\n",
    "- An Interface define a contract, which implementing classes need to honor.\n",
    "\n",
    "- A class implements an interface, thereby inheriting the abstract methods of the interface.\n",
    "\n",
    "- Along with abstract methods, an interface may also contain constants, default methods, static methods, and nested types. Method bodies exist only for default methods and static methods.\n"
   ]
  },
  {
   "cell_type": "markdown",
   "metadata": {},
   "source": [
    "- A **class** describes the *attributes* (state) and *methods* (behaviour) of an object. \n",
    "\n",
    "- An **interface** contains *behaviors* that a class implements.\n",
    "\n",
    "- Unless the class that implements the interface is *abstract*, all the methods of the interface need to be defined in the class."
   ]
  },
  {
   "cell_type": "markdown",
   "metadata": {},
   "source": [
    "![](http://www.plantuml.com/plantuml/png/TL4zJyCm4DtlLtXi5LmnLmWLiS024XaHmyMv9XQsKyvd8L7wtqcQnYs8JEVtSTPxzYOAiYJl8BxRi4D6hup36Ez4s5P9wD5qeRHVfAu1oXPtf6w-jTRgXOnWQ1n1FfsKyYCXNzAhrUfMFM0iRKqHm0OXtgAXCxU7a7n5_BmzuiLohNeN702mYi9eP4obZWbwkmxeQQrAOHiQqAPp7MS8nT6s6E7LE9PGD2HFw6cnpCw1kXzsBxauSNbnFwKuA6J2mLntgNBqIzeHMqz2FAFNlHgYxK8y6rxVXf9Zj_nWGxzFMqkRhz4jsQQLZA6OpBdbg9n6d_blq7_JpKGgPdvZGw5Etlq0)"
   ]
  },
  {
   "cell_type": "code",
   "execution_count": 37,
   "metadata": {},
   "outputs": [
    {
     "data": {
      "text/plain": [
       "null"
      ]
     },
     "execution_count": 37,
     "metadata": {},
     "output_type": "execute_result"
    }
   ],
   "source": [
    "interface HasSides\n",
    "{\n",
    "    int numberOfSides();\n",
    "}"
   ]
  },
  {
   "cell_type": "code",
   "execution_count": 38,
   "metadata": {},
   "outputs": [
    {
     "data": {
      "text/plain": [
       "null"
      ]
     },
     "execution_count": 38,
     "metadata": {},
     "output_type": "execute_result"
    }
   ],
   "source": [
    "class Rectangle extends Shape implements HasSides\n",
    "{\n",
    "  private double height;\n",
    "  private double width;\n",
    "\n",
    "  public Rectangle(String name, double h, double w)\n",
    "  {\n",
    "    super(name, \"Blue\");\n",
    "    height = h;\n",
    "    width = w;\n",
    "  }\n",
    "\n",
    "  public double area() { return height*width; }\n",
    "\n",
    "  public double perimeter() { return 2*height + 2*width; }\n",
    "\n",
    "  public double[] dimensions() { \n",
    "    double[] dim = { height, width };\n",
    "    return dim; \n",
    "  }\n",
    "  \n",
    "  public int numberOfSides() { return 4; }\n",
    "}"
   ]
  },
  {
   "cell_type": "code",
   "execution_count": 39,
   "metadata": {},
   "outputs": [
    {
     "data": {
      "text/plain": [
       "null"
      ]
     },
     "execution_count": 39,
     "metadata": {},
     "output_type": "execute_result"
    }
   ],
   "source": [
    "class Square extends Rectangle\n",
    "{\n",
    "  public Square(String name, double side)\n",
    "  {\n",
    "    super(name, side, side);\n",
    "    setColor(\"Purple\");\n",
    "  }\n",
    "}"
   ]
  },
  {
   "cell_type": "code",
   "execution_count": 40,
   "metadata": {},
   "outputs": [
    {
     "ename": "",
     "evalue": "",
     "output_type": "error",
     "traceback": [
      "\u001b[1;31m\u001b[0;0m",
      "\u001b[1;31m\u001b[0;0m",
      "\u001b[1;31mSystem.out.println(fig1+\" # of sides: \"+ fig1.numberOfSides());\u001b[0;0m",
      "\u001b[1;31mcannot find symbol\u001b[0;0m",
      "\u001b[1;31m  symbol:   method numberOfSides()\u001b[0;0m",
      "\u001b[1;31m  location: variable fig1 of type Shape\u001b[0;0m"
     ]
    }
   ],
   "source": [
    "Shape fig1 = new Rectangle(\"Rectangle\", 10, 13);\n",
    "Rectangle fig2 = new Square(\"Square\", 8);\n",
    "\n",
    "System.out.println(fig1+\" # of sides: \"+ fig1.numberOfSides()); // cannot find symbol numberOfSides\n",
    "\n",
    "HasSides fig3 = fig2;\n",
    "System.out.println(fig3+\" # of sides: \"+ fig3.numberOfSides());\n"
   ]
  },
  {
   "cell_type": "markdown",
   "metadata": {},
   "source": [
    "The **Interface Segregation Principle** states that clients should not be forced to implement interfaces they don't use.\n",
    "\n",
    "Instead of one fat interface many small interfaces are preferred based on groups of methods, each one serving one submodule."
   ]
  },
  {
   "cell_type": "markdown",
   "metadata": {},
   "source": [
    "## Exception Handling"
   ]
  },
  {
   "cell_type": "markdown",
   "metadata": {},
   "source": [
    "Run-time errors can occur because of poor coding, or because of problems interacting with user or external data content. Such errors lead to the **throwing of exceptions**.\n",
    "\n",
    "- An **exception** is a situation when the program behaves in an unexpected manner usually indicating an error condition.\n",
    "\n",
    "- An Exception is an *unwanted event* that *interrupts the normal flow* of the program. When an exception occurs program execution gets terminated. In such cases we get a system generated error message.\n",
    "\n",
    "Exceptions can be **caught** at code level as a way of trying to deal with the cause of the exception.\n",
    "\n",
    "If an exception remains uncaught, the program will terminate with an *uncaught exception error*."
   ]
  },
  {
   "cell_type": "code",
   "execution_count": 41,
   "metadata": {},
   "outputs": [
    {
     "data": {
      "text/plain": [
       "null"
      ]
     },
     "execution_count": 41,
     "metadata": {},
     "output_type": "execute_result"
    }
   ],
   "source": [
    "Integer n = 7;\n",
    "Integer res = n/0;"
   ]
  },
  {
   "cell_type": "code",
   "execution_count": 42,
   "metadata": {},
   "outputs": [
    {
     "name": "stdout",
     "output_type": "stream",
     "text": [
      "Infinity\n"
     ]
    },
    {
     "data": {
      "text/plain": [
       "null"
      ]
     },
     "execution_count": 42,
     "metadata": {},
     "output_type": "execute_result"
    }
   ],
   "source": [
    "Double n = 7.0;\n",
    "Double res = n/0;\n",
    "System.out.println(res);"
   ]
  },
  {
   "cell_type": "code",
   "execution_count": 43,
   "metadata": {},
   "outputs": [
    {
     "name": "stdout",
     "output_type": "stream",
     "text": [
      "I can divide by zero\n"
     ]
    },
    {
     "data": {
      "text/plain": [
       "null"
      ]
     },
     "execution_count": 43,
     "metadata": {},
     "output_type": "execute_result"
    }
   ],
   "source": [
    "try {\n",
    "    Integer n = 7;\n",
    "    Integer res = n/0;\n",
    "}\n",
    "catch (Exception e) {\n",
    "    System.out.println(\"I can divide by zero\");\n",
    "}"
   ]
  },
  {
   "cell_type": "code",
   "execution_count": 44,
   "metadata": {},
   "outputs": [
    {
     "name": "stdout",
     "output_type": "stream",
     "text": [
      "I can divide by zero\n"
     ]
    },
    {
     "data": {
      "text/plain": [
       "null"
      ]
     },
     "execution_count": 44,
     "metadata": {},
     "output_type": "execute_result"
    }
   ],
   "source": [
    "try {\n",
    "    Integer n = 7;\n",
    "    Integer res = n/0;\n",
    "    int[] data = new int[5];\n",
    "    data[10] = 1;\n",
    "}\n",
    "catch (ArithmeticException e) {\n",
    "    System.out.println(\"I can divide by zero\");\n",
    "}catch (Exception e) {\n",
    "    System.out.println(\"Error in the code\");\n",
    "    System.out.println(e);\n",
    "}\n"
   ]
  },
  {
   "cell_type": "code",
   "execution_count": 45,
   "metadata": {},
   "outputs": [
    {
     "name": "stdout",
     "output_type": "stream",
     "text": [
      "Error in the code\n",
      "java.lang.ArrayIndexOutOfBoundsException: Index 10 out of bounds for length 5\n"
     ]
    },
    {
     "data": {
      "text/plain": [
       "null"
      ]
     },
     "execution_count": 45,
     "metadata": {},
     "output_type": "execute_result"
    }
   ],
   "source": [
    "try {\n",
    "    Integer n = 7;\n",
    "//     Integer res = n/0;\n",
    "    int[] data = new int[5];\n",
    "    data[10] = 1;\n",
    "}\n",
    "catch (ArithmeticException e) {\n",
    "    System.out.println(\"I can divide by zero\");\n",
    "}catch (Exception e) {\n",
    "    System.out.println(\"Error in the code\");\n",
    "    System.out.println(e);\n",
    "}\n"
   ]
  },
  {
   "cell_type": "markdown",
   "metadata": {},
   "source": [
    "### User defined Exceptions"
   ]
  },
  {
   "cell_type": "code",
   "execution_count": 46,
   "metadata": {},
   "outputs": [
    {
     "data": {
      "text/plain": [
       "null"
      ]
     },
     "execution_count": 46,
     "metadata": {},
     "output_type": "execute_result"
    }
   ],
   "source": [
    "class NonPositive extends Exception\n",
    "{\n",
    "    public NonPositive(String message) {\n",
    "        super(message);\n",
    "    }\n",
    "}"
   ]
  },
  {
   "cell_type": "markdown",
   "metadata": {},
   "source": [
    "### Exception propagation"
   ]
  },
  {
   "cell_type": "code",
   "execution_count": 47,
   "metadata": {},
   "outputs": [
    {
     "data": {
      "text/plain": [
       "null"
      ]
     },
     "execution_count": 47,
     "metadata": {},
     "output_type": "execute_result"
    }
   ],
   "source": [
    "class PositiveInt\n",
    "{\n",
    "    private int value;\n",
    "    \n",
    "    PositiveInt(int n) throws Exception\n",
    "    {\n",
    "        if (n<0) {\n",
    "            throw new NonPositive(\"Given number is not greater or equal to zero\");\n",
    "        }\n",
    "        value = n;\n",
    "    }\n",
    "    \n",
    "    public int getValue() { return value; }\n",
    "    \n",
    "    public PositiveInt minus(PositiveInt o) throws Exception // Without throws ... compiler error unreported exception java.lang.Exception; must be caught or declared to be thrown\n",
    "    {\n",
    "        return new PositiveInt(value - o.getValue());\n",
    "    }\n",
    "}"
   ]
  },
  {
   "cell_type": "code",
   "execution_count": 48,
   "metadata": {},
   "outputs": [
    {
     "data": {
      "text/plain": [
       "null"
      ]
     },
     "execution_count": 48,
     "metadata": {},
     "output_type": "execute_result"
    }
   ],
   "source": [
    "try {\n",
    "    PositiveInt b = new PositiveInt(3);\n",
    "} catch (Exception e) {\n",
    "    System.out.println(e);\n",
    "}"
   ]
  },
  {
   "cell_type": "code",
   "execution_count": 49,
   "metadata": {},
   "outputs": [
    {
     "name": "stdout",
     "output_type": "stream",
     "text": [
      "REPL.$JShell$137$NonPositive: Given number is not greater or equal to zero\n"
     ]
    },
    {
     "data": {
      "text/plain": [
       "null"
      ]
     },
     "execution_count": 49,
     "metadata": {},
     "output_type": "execute_result"
    }
   ],
   "source": [
    "try {\n",
    "    PositiveInt b = new PositiveInt(-3);\n",
    "} catch (Exception e) {\n",
    "    System.out.println(e);\n",
    "}"
   ]
  },
  {
   "cell_type": "code",
   "execution_count": 50,
   "metadata": {},
   "outputs": [
    {
     "data": {
      "text/plain": [
       "null"
      ]
     },
     "execution_count": 50,
     "metadata": {},
     "output_type": "execute_result"
    }
   ],
   "source": [
    "class Operations\n",
    "{\n",
    "    public static int subtract(int a, int b) throws Exception\n",
    "    {\n",
    "        PositiveInt x = new PositiveInt(a);\n",
    "        PositiveInt y = new PositiveInt(b);\n",
    "        return x.minus(y).getValue();\n",
    "    }    \n",
    "}"
   ]
  },
  {
   "cell_type": "code",
   "execution_count": 51,
   "metadata": {},
   "outputs": [
    {
     "name": "stdout",
     "output_type": "stream",
     "text": [
      "substract(7,5):2\n"
     ]
    },
    {
     "data": {
      "text/plain": [
       "null"
      ]
     },
     "execution_count": 51,
     "metadata": {},
     "output_type": "execute_result"
    }
   ],
   "source": [
    "System.out.println(\"substract(7,5):\" + Operations.subtract(7,5));"
   ]
  },
  {
   "cell_type": "code",
   "execution_count": 52,
   "metadata": {},
   "outputs": [
    {
     "name": "stdout",
     "output_type": "stream",
     "text": [
      "REPL.$JShell$137$NonPositive: Given number is not greater or equal to zero\n"
     ]
    },
    {
     "data": {
      "text/plain": [
       "null"
      ]
     },
     "execution_count": 52,
     "metadata": {},
     "output_type": "execute_result"
    }
   ],
   "source": [
    "try {\n",
    "    System.out.println(\"substract(5,7):\" + Operations.subtract(5,7)); // Exception propagated from the PositiveInt constructor until the end of the execution\n",
    "} catch (Exception e) {\n",
    "    System.out.println(e);\n",
    "}"
   ]
  }
 ],
 "metadata": {
  "kernelspec": {
   "display_name": "Java11",
   "language": "java",
   "name": "java"
  },
  "language_info": {
   "codemirror_mode": "text/x-java",
   "file_extension": ".java",
   "mimetype": "",
   "name": "Java",
   "nbconverter_exporter": "",
   "version": "11.0.8"
  },
  "toc": {
   "base_numbering": 1,
   "nav_menu": {},
   "number_sections": true,
   "sideBar": true,
   "skip_h1_title": true,
   "title_cell": "Table of Contents",
   "title_sidebar": "Contents",
   "toc_cell": false,
   "toc_position": {
    "height": "calc(100% - 180px)",
    "left": "10px",
    "top": "150px",
    "width": "214.667px"
   },
   "toc_section_display": true,
   "toc_window_display": false
  }
 },
 "nbformat": 4,
 "nbformat_minor": 2
}
